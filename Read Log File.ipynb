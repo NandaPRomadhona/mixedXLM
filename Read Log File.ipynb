{
 "cells": [
  {
   "cell_type": "code",
   "execution_count": 52,
   "metadata": {},
   "outputs": [],
   "source": [
    "infile = \"/home/nanda/XLM_modif/new_dumped/xlm_R/1/train.log\"\n",
    "\n",
    "# important = []\n",
    "# keep_phrases = [\"test\",\n",
    "#               \"important\",\n",
    "#               \"keep me\"]\n",
    "\n",
    "with open(infile) as f:\n",
    "    f = f.readlines()\n",
    "\n",
    "# for line in f:\n",
    "#     for phrase in keep_phrases:\n",
    "#         if phrase in line:\n",
    "#             important.append(line)\n",
    "#             break\n",
    "\n",
    "# print(important)"
   ]
  },
  {
   "cell_type": "code",
   "execution_count": 55,
   "metadata": {},
   "outputs": [
    {
     "data": {
      "text/plain": [
       "['INFO - 10/30/20 15:41:45 - 1 day, 23:22:18 -  467340 -  455.01 sent/s -   932.76 words/s - MLM-en:  4.2576 || MLM-ms:  3.9193 -  - model LR: 1.0346e-05\\n',\n",
       " 'INFO - 10/30/20 15:41:45 - 1 day, 23:22:19 -  467345 -  428.33 sent/s -   942.32 words/s - MLM-en:  4.0508 || MLM-ms:  3.6141 -  - model LR: 1.0346e-05\\n',\n",
       " 'INFO - 10/30/20 15:41:46 - 1 day, 23:22:19 -  467350 -  547.96 sent/s -  1164.42 words/s - MLM-en:  3.9331 || MLM-ms:  4.1150 -  - model LR: 1.0346e-05\\n',\n",
       " 'INFO - 10/30/20 15:41:47 - 1 day, 23:22:20 -  467355 -  550.45 sent/s -  1100.90 words/s - MLM-en:  3.5288 || MLM-ms:  3.7426 -  - model LR: 1.0346e-05\\n',\n",
       " 'INFO - 10/30/20 15:41:47 - 1 day, 23:22:20 -  467360 -  549.43 sent/s -  1126.32 words/s - MLM-en:  4.1438 || MLM-ms:  3.2913 -  - model LR: 1.0346e-05\\n',\n",
       " 'INFO - 10/30/20 15:41:48 - 1 day, 23:22:21 -  467365 -  546.92 sent/s -  1285.27 words/s - MLM-en:  4.0822 || MLM-ms:  3.8077 -  - model LR: 1.0345e-05\\n',\n",
       " 'INFO - 10/30/20 15:41:48 - 1 day, 23:22:22 -  467370 -  546.25 sent/s -  1147.13 words/s - MLM-en:  3.6737 || MLM-ms:  3.7246 -  - model LR: 1.0345e-05\\n',\n",
       " 'INFO - 10/30/20 15:41:49 - 1 day, 23:22:22 -  467375 -  547.72 sent/s -  1163.90 words/s - MLM-en:  3.4494 || MLM-ms:  3.8248 -  - model LR: 1.0345e-05\\n',\n",
       " 'INFO - 10/30/20 15:41:50 - 1 day, 23:22:23 -  467380 -  552.43 sent/s -  1187.72 words/s - MLM-en:  4.0089 || MLM-ms:  3.7691 -  - model LR: 1.0345e-05\\n',\n",
       " 'INFO - 10/30/20 15:41:50 - 1 day, 23:22:23 -  467385 -  550.04 sent/s -  1141.33 words/s - MLM-en:  3.8176 || MLM-ms:  3.9859 -  - model LR: 1.0345e-05\\n',\n",
       " 'INFO - 10/30/20 15:41:51 - 1 day, 23:22:24 -  467390 -  549.17 sent/s -  1098.34 words/s - MLM-en:  3.8023 || MLM-ms:  4.0595 -  - model LR: 1.0345e-05\\n',\n",
       " 'INFO - 10/30/20 15:41:51 - 1 day, 23:22:25 -  467395 -  543.16 sent/s -  1167.79 words/s - MLM-en:  4.0570 || MLM-ms:  4.1828 -  - model LR: 1.0345e-05\\n',\n",
       " 'INFO - 10/30/20 15:41:52 - 1 day, 23:22:25 -  467400 -  454.45 sent/s -   977.07 words/s - MLM-en:  3.8453 || MLM-ms:  3.8163 -  - model LR: 1.0345e-05\\n',\n",
       " 'INFO - 10/30/20 15:41:53 - 1 day, 23:22:26 -  467405 -  456.55 sent/s -   913.10 words/s - MLM-en:  3.7097 || MLM-ms:  3.7458 -  - model LR: 1.0345e-05\\n',\n",
       " 'INFO - 10/30/20 15:41:53 - 1 day, 23:22:27 -  467410 -  475.89 sent/s -  1082.64 words/s - MLM-en:  3.8728 || MLM-ms:  3.4036 -  - model LR: 1.0345e-05\\n',\n",
       " 'INFO - 10/30/20 15:41:54 - 1 day, 23:22:27 -  467415 -  530.30 sent/s -  1140.15 words/s - MLM-en:  4.0201 || MLM-ms:  3.8854 -  - model LR: 1.0345e-05\\n',\n",
       " 'INFO - 10/30/20 15:41:55 - 1 day, 23:22:28 -  467420 -  531.33 sent/s -  1142.37 words/s - MLM-en:  3.9947 || MLM-ms:  3.9102 -  - model LR: 1.0345e-05\\n',\n",
       " 'INFO - 10/30/20 15:41:55 - 1 day, 23:22:28 -  467425 -  537.46 sent/s -  1182.41 words/s - MLM-en:  4.0589 || MLM-ms:  3.2613 -  - model LR: 1.0345e-05\\n',\n",
       " 'INFO - 10/30/20 15:41:56 - 1 day, 23:22:29 -  467430 -  542.71 sent/s -  1153.27 words/s - MLM-en:  3.9195 || MLM-ms:  3.9733 -  - model LR: 1.0345e-05\\n',\n",
       " 'INFO - 10/30/20 15:41:56 - 1 day, 23:22:30 -  467435 -  545.99 sent/s -  1051.03 words/s - MLM-en:  4.0950 || MLM-ms:  3.6997 -  - model LR: 1.0345e-05\\n',\n",
       " 'INFO - 10/30/20 15:41:57 - 1 day, 23:22:30 -  467440 -  543.79 sent/s -  1060.38 words/s - MLM-en:  4.1749 || MLM-ms:  3.6471 -  - model LR: 1.0345e-05\\n',\n",
       " 'INFO - 10/30/20 15:41:58 - 1 day, 23:22:31 -  467445 -  523.55 sent/s -  1099.45 words/s - MLM-en:  3.6344 || MLM-ms:  3.5746 -  - model LR: 1.0345e-05\\n',\n",
       " 'INFO - 10/30/20 15:41:58 - 1 day, 23:22:31 -  467450 -  539.06 sent/s -  1172.45 words/s - MLM-en:  3.9353 || MLM-ms:  3.8700 -  - model LR: 1.0345e-05\\n',\n",
       " 'INFO - 10/30/20 15:41:59 - 1 day, 23:22:32 -  467455 -  541.98 sent/s -  1165.25 words/s - MLM-en:  3.8362 || MLM-ms:  3.9669 -  - model LR: 1.0344e-05\\n',\n",
       " 'INFO - 10/30/20 15:41:59 - 1 day, 23:22:33 -  467460 -  540.40 sent/s -  1107.83 words/s - MLM-en:  3.9047 || MLM-ms:  3.3885 -  - model LR: 1.0344e-05\\n',\n",
       " 'INFO - 10/30/20 15:42:00 - 1 day, 23:22:33 -  467465 -  541.88 sent/s -  1124.40 words/s - MLM-en:  4.1478 || MLM-ms:  3.0694 -  - model LR: 1.0344e-05\\n',\n",
       " 'INFO - 10/30/20 15:42:01 - 1 day, 23:22:34 -  467470 -  547.29 sent/s -  1176.67 words/s - MLM-en:  4.2986 || MLM-ms:  3.8626 -  - model LR: 1.0344e-05\\n',\n",
       " 'INFO - 10/30/20 15:42:01 - 1 day, 23:22:34 -  467475 -  544.63 sent/s -  1252.64 words/s - MLM-en:  4.3507 || MLM-ms:  3.9234 -  - model LR: 1.0344e-05\\n',\n",
       " 'INFO - 10/30/20 15:42:02 - 1 day, 23:22:35 -  467480 -  546.74 sent/s -  1107.14 words/s - MLM-en:  4.1785 || MLM-ms:  3.9663 -  - model LR: 1.0344e-05\\n',\n",
       " 'INFO - 10/30/20 15:42:02 - 1 day, 23:22:35 -  467485 -  547.72 sent/s -  1177.59 words/s - MLM-en:  3.8019 || MLM-ms:  3.5725 -  - model LR: 1.0344e-05\\n',\n",
       " 'INFO - 10/30/20 15:42:03 - 1 day, 23:22:36 -  467490 -  546.21 sent/s -  1133.39 words/s - MLM-en:  3.8735 || MLM-ms:  3.9872 -  - model LR: 1.0344e-05\\n',\n",
       " 'INFO - 10/30/20 15:42:03 - 1 day, 23:22:37 -  467495 -  545.76 sent/s -  1200.68 words/s - MLM-en:  3.9171 || MLM-ms:  3.8857 -  - model LR: 1.0344e-05\\n',\n",
       " 'INFO - 10/30/20 15:42:04 - 1 day, 23:22:37 -  467500 -  548.66 sent/s -  1152.20 words/s - MLM-en:  4.0323 || MLM-ms:  3.6388 -  - model LR: 1.0344e-05\\n',\n",
       " 'INFO - 10/30/20 15:42:05 - 1 day, 23:22:38 -  467505 -  542.18 sent/s -  1247.02 words/s - MLM-en:  3.6256 || MLM-ms:  3.8058 -  - model LR: 1.0344e-05\\n',\n",
       " 'INFO - 10/30/20 15:42:05 - 1 day, 23:22:38 -  467510 -  546.78 sent/s -  1107.24 words/s - MLM-en:  3.8081 || MLM-ms:  3.5204 -  - model LR: 1.0344e-05\\n',\n",
       " 'INFO - 10/30/20 15:42:06 - 1 day, 23:22:39 -  467515 -  547.67 sent/s -  1218.57 words/s - MLM-en:  3.7890 || MLM-ms:  3.7638 -  - model LR: 1.0344e-05\\n',\n",
       " 'INFO - 10/30/20 15:42:06 - 1 day, 23:22:40 -  467520 -  546.73 sent/s -  1148.12 words/s - MLM-en:  3.7712 || MLM-ms:  3.5265 -  - model LR: 1.0344e-05\\n',\n",
       " 'INFO - 10/30/20 15:42:07 - 1 day, 23:22:40 -  467525 -  545.98 sent/s -  1146.56 words/s - MLM-en:  3.9661 || MLM-ms:  3.8826 -  - model LR: 1.0344e-05\\n',\n",
       " 'INFO - 10/30/20 15:42:08 - 1 day, 23:22:41 -  467530 -  540.22 sent/s -  1147.96 words/s - MLM-en:  4.1732 || MLM-ms:  3.9421 -  - model LR: 1.0344e-05\\n',\n",
       " 'INFO - 10/30/20 15:42:08 - 1 day, 23:22:41 -  467535 -  536.71 sent/s -  1180.76 words/s - MLM-en:  4.2917 || MLM-ms:  4.2865 -  - model LR: 1.0344e-05\\n',\n",
       " 'INFO - 10/30/20 15:42:09 - 1 day, 23:22:42 -  467540 -  545.48 sent/s -  1186.41 words/s - MLM-en:  3.8376 || MLM-ms:  3.9337 -  - model LR: 1.0344e-05\\n',\n",
       " 'INFO - 10/30/20 15:42:09 - 1 day, 23:22:43 -  467545 -  548.12 sent/s -  1164.76 words/s - MLM-en:  3.9071 || MLM-ms:  3.8713 -  - model LR: 1.0343e-05\\n',\n",
       " 'INFO - 10/30/20 15:42:10 - 1 day, 23:22:43 -  467550 -  549.16 sent/s -  1125.77 words/s - MLM-en:  3.8954 || MLM-ms:  3.7719 -  - model LR: 1.0343e-05\\n',\n",
       " 'INFO - 10/30/20 15:42:10 - 1 day, 23:22:44 -  467555 -  549.28 sent/s -  1235.89 words/s - MLM-en:  3.9323 || MLM-ms:  3.6272 -  - model LR: 1.0343e-05\\n',\n",
       " 'INFO - 10/30/20 15:42:11 - 1 day, 23:22:44 -  467560 -  549.01 sent/s -  1235.27 words/s - MLM-en:  4.3636 || MLM-ms:  4.1605 -  - model LR: 1.0343e-05\\n',\n",
       " 'INFO - 10/30/20 15:42:12 - 1 day, 23:22:45 -  467565 -  547.21 sent/s -  1176.49 words/s - MLM-en:  4.1678 || MLM-ms:  4.2082 -  - model LR: 1.0343e-05\\n',\n",
       " 'INFO - 10/30/20 15:42:12 - 1 day, 23:22:45 -  467570 -  547.40 sent/s -  1231.66 words/s - MLM-en:  3.7961 || MLM-ms:  2.8505 -  - model LR: 1.0343e-05\\n',\n",
       " 'INFO - 10/30/20 15:42:13 - 1 day, 23:22:46 -  467575 -  546.86 sent/s -  1230.44 words/s - MLM-en:  3.7502 || MLM-ms:  3.7320 -  - model LR: 1.0343e-05\\n',\n",
       " 'INFO - 10/30/20 15:42:13 - 1 day, 23:22:47 -  467580 -  547.64 sent/s -  1163.73 words/s - MLM-en:  3.9843 || MLM-ms:  3.5040 -  - model LR: 1.0343e-05\\n',\n",
       " 'INFO - 10/30/20 15:42:14 - 1 day, 23:22:47 -  467585 -  550.74 sent/s -  1156.56 words/s - MLM-en:  3.9867 || MLM-ms:  3.9563 -  - model LR: 1.0343e-05\\n',\n",
       " 'INFO - 10/30/20 15:42:15 - 1 day, 23:22:48 -  467590 -  532.81 sent/s -  1172.18 words/s - MLM-en:  3.6979 || MLM-ms:  3.7961 -  - model LR: 1.0343e-05\\n',\n",
       " 'INFO - 10/30/20 15:42:15 - 1 day, 23:22:48 -  467595 -  451.11 sent/s -   947.34 words/s - MLM-en:  4.1538 || MLM-ms:  3.8137 -  - model LR: 1.0343e-05\\n',\n",
       " 'INFO - 10/30/20 15:42:16 - 1 day, 23:22:49 -  467600 -  454.70 sent/s -   988.97 words/s - MLM-en:  3.8526 || MLM-ms:  3.6366 -  - model LR: 1.0343e-05\\n',\n",
       " 'INFO - 10/30/20 15:42:17 - 1 day, 23:22:50 -  467605 -  453.21 sent/s -   985.73 words/s - MLM-en:  3.7790 || MLM-ms:  3.4324 -  - model LR: 1.0343e-05\\n',\n",
       " 'INFO - 10/30/20 15:42:17 - 1 day, 23:22:51 -  467610 -  452.36 sent/s -   972.57 words/s - MLM-en:  3.6116 || MLM-ms:  4.0292 -  - model LR: 1.0343e-05\\n',\n",
       " 'INFO - 10/30/20 15:42:18 - 1 day, 23:22:51 -  467615 -  455.30 sent/s -   978.89 words/s - MLM-en:  3.9784 || MLM-ms:  3.8614 -  - model LR: 1.0343e-05\\n',\n",
       " 'INFO - 10/30/20 15:42:19 - 1 day, 23:22:52 -  467620 -  452.31 sent/s -   972.47 words/s - MLM-en:  4.0849 || MLM-ms:  3.8447 -  - model LR: 1.0343e-05\\n',\n",
       " 'INFO - 10/30/20 15:42:20 - 1 day, 23:22:53 -  467625 -  453.17 sent/s -   895.01 words/s - MLM-en:  4.0380 || MLM-ms:  4.1477 -  - model LR: 1.0343e-05\\n',\n",
       " 'INFO - 10/30/20 15:42:20 - 1 day, 23:22:53 -  467630 -  455.89 sent/s -   957.37 words/s - MLM-en:  3.9735 || MLM-ms:  3.6925 -  - model LR: 1.0343e-05\\n',\n",
       " 'INFO - 10/30/20 15:42:21 - 1 day, 23:22:54 -  467635 -  454.98 sent/s -   955.45 words/s - MLM-en:  4.3106 || MLM-ms:  3.6370 -  - model LR: 1.0343e-05\\n',\n",
       " 'INFO - 10/30/20 15:42:21 - 1 day, 23:22:54 - ============ End of epoch 597 ============\\n',\n",
       " 'INFO - 10/30/20 15:48:56 - 1 day, 23:29:30 - epoch -> 597.000000\\n',\n",
       " 'INFO - 10/30/20 15:48:56 - 1 day, 23:29:30 - valid_en_mlm_ppl -> 59.887616\\n',\n",
       " 'INFO - 10/30/20 15:48:56 - 1 day, 23:29:30 - valid_en_mlm_acc -> 34.778598\\n',\n",
       " 'INFO - 10/30/20 15:48:56 - 1 day, 23:29:30 - valid_ms_mlm_ppl -> 59.856928\\n',\n",
       " 'INFO - 10/30/20 15:48:56 - 1 day, 23:29:30 - valid_ms_mlm_acc -> 35.186827\\n',\n",
       " 'INFO - 10/30/20 15:48:56 - 1 day, 23:29:30 - valid_mlm_ppl -> 59.872272\\n',\n",
       " 'INFO - 10/30/20 15:48:56 - 1 day, 23:29:30 - valid_mlm_acc -> 34.982712\\n',\n",
       " 'INFO - 10/30/20 15:48:56 - 1 day, 23:29:30 - test_en_mlm_ppl -> 72.733965\\n',\n",
       " 'INFO - 10/30/20 15:48:56 - 1 day, 23:29:30 - test_en_mlm_acc -> 32.570388\\n',\n",
       " 'INFO - 10/30/20 15:48:56 - 1 day, 23:29:30 - test_ms_mlm_ppl -> 83.619434\\n',\n",
       " 'INFO - 10/30/20 15:48:56 - 1 day, 23:29:30 - test_ms_mlm_acc -> 31.141290\\n',\n",
       " 'INFO - 10/30/20 15:48:56 - 1 day, 23:29:30 - test_mlm_ppl -> 78.176699\\n',\n",
       " 'INFO - 10/30/20 15:48:56 - 1 day, 23:29:30 - test_mlm_acc -> 31.855839\\n',\n",
       " 'INFO - 10/30/20 15:48:56 - 1 day, 23:29:30 - __log__:{\"epoch\": 597, \"valid_en_mlm_ppl\": 59.887616369266944, \"valid_en_mlm_acc\": 34.77859778597786, \"valid_ms_mlm_ppl\": 59.856928201768895, \"valid_ms_mlm_acc\": 35.18682710576314, \"valid_mlm_ppl\": 59.87227228551792, \"valid_mlm_acc\": 34.982712445870504, \"test_en_mlm_ppl\": 72.73396517373769, \"test_en_mlm_acc\": 32.57038844351497, \"test_ms_mlm_ppl\": 83.61943369613452, \"test_ms_mlm_acc\": 31.14129037785965, \"test_mlm_ppl\": 78.1766994349361, \"test_mlm_acc\": 31.85583941068731}\\n',\n",
       " 'INFO - 10/30/20 15:48:56 - 1 day, 23:29:30 - New best score for valid_mlm_ppl: 59.872272\\n',\n",
       " 'INFO - 10/30/20 15:48:56 - 1 day, 23:29:30 - Saving best-valid_mlm_ppl to ./new_dumped/xlm_R/1/best-valid_mlm_ppl.pth ...\\n',\n",
       " 'WARNING - 10/30/20 15:48:56 - 1 day, 23:29:30 - Saving model parameters ...\\n',\n",
       " 'INFO - 10/30/20 15:48:57 - 1 day, 23:29:30 - ============== nanda logger matric and biggest\\n',\n",
       " 'INFO - 10/30/20 15:48:57 - 1 day, 23:29:30 - valid_mlm_ppl\\n',\n",
       " 'INFO - 10/30/20 15:48:57 - 1 day, 23:29:30 - False\\n',\n",
       " 'INFO - 10/30/20 15:48:57 - 1 day, 23:29:30 - New best validation score: 59.872272\\n',\n",
       " 'INFO - 10/30/20 15:48:57 - 1 day, 23:29:30 - Saving checkpoint to ./new_dumped/xlm_R/1/checkpoint.pth ...\\n',\n",
       " 'WARNING - 10/30/20 15:48:57 - 1 day, 23:29:30 - Saving model parameters ...\\n',\n",
       " 'WARNING - 10/30/20 15:48:57 - 1 day, 23:29:30 - Saving model optimizer ...\\n',\n",
       " 'INFO - 10/30/20 15:49:00 - 1 day, 23:29:34 - ============ Starting epoch 598 ... ============\\n',\n",
       " 'INFO - 10/30/20 15:49:01 - 1 day, 23:29:34 -  467640 -    0.80 sent/s -     1.60 words/s - MLM-en:  3.7509 || MLM-ms:  3.8024 -  - model LR: 1.0342e-05\\n',\n",
       " 'INFO - 10/30/20 15:49:02 - 1 day, 23:29:35 -  467645 -  454.03 sent/s -   987.51 words/s - MLM-en:  4.1691 || MLM-ms:  4.0321 -  - model LR: 1.0342e-05\\n',\n",
       " 'INFO - 10/30/20 15:49:02 - 1 day, 23:29:36 -  467650 -  458.66 sent/s -   917.32 words/s - MLM-en:  4.1849 || MLM-ms:  3.8629 -  - model LR: 1.0342e-05\\n',\n",
       " 'INFO - 10/30/20 15:49:03 - 1 day, 23:29:36 -  467655 -  449.00 sent/s -   954.12 words/s - MLM-en:  4.1552 || MLM-ms:  3.8136 -  - model LR: 1.0342e-05\\n',\n",
       " 'INFO - 10/30/20 15:49:04 - 1 day, 23:29:37 -  467660 -  451.68 sent/s -   971.11 words/s - MLM-en:  4.0779 || MLM-ms:  3.7349 -  - model LR: 1.0342e-05\\n',\n",
       " 'INFO - 10/30/20 15:49:05 - 1 day, 23:29:38 -  467665 -  458.40 sent/s -  1008.47 words/s - MLM-en:  4.1024 || MLM-ms:  3.9491 -  - model LR: 1.0342e-05\\n',\n",
       " 'INFO - 10/30/20 15:49:05 - 1 day, 23:29:38 -  467670 -  462.22 sent/s -   982.22 words/s - MLM-en:  4.2355 || MLM-ms:  3.7197 -  - model LR: 1.0342e-05\\n',\n",
       " 'INFO - 10/30/20 15:49:06 - 1 day, 23:29:39 -  467675 -  468.25 sent/s -  1006.73 words/s - MLM-en:  3.9829 || MLM-ms:  3.8626 -  - model LR: 1.0342e-05\\n',\n",
       " 'INFO - 10/30/20 15:49:07 - 1 day, 23:29:40 -  467680 -  453.88 sent/s -   975.84 words/s - MLM-en:  4.0035 || MLM-ms:  3.6728 -  - model LR: 1.0342e-05\\n',\n",
       " 'INFO - 10/30/20 15:49:07 - 1 day, 23:29:41 -  467685 -  452.54 sent/s -   984.27 words/s - MLM-en:  3.7082 || MLM-ms:  3.8162 -  - model LR: 1.0342e-05\\n',\n",
       " 'INFO - 10/30/20 15:49:08 - 1 day, 23:29:41 -  467690 -  447.81 sent/s -   940.39 words/s - MLM-en:  3.8919 || MLM-ms:  3.4562 -  - model LR: 1.0342e-05\\n',\n",
       " 'INFO - 10/30/20 15:49:09 - 1 day, 23:29:42 -  467695 -  452.20 sent/s -   949.62 words/s - MLM-en:  3.9755 || MLM-ms:  3.9491 -  - model LR: 1.0342e-05\\n',\n",
       " 'INFO - 10/30/20 15:49:09 - 1 day, 23:29:43 -  467700 -  456.03 sent/s -   946.25 words/s - MLM-en:  3.9149 || MLM-ms:  3.9320 -  - model LR: 1.0342e-05\\n',\n",
       " 'INFO - 10/30/20 15:49:10 - 1 day, 23:29:43 -  467705 -  453.22 sent/s -   985.74 words/s - MLM-en:  3.6634 || MLM-ms:  3.8338 -  - model LR: 1.0342e-05\\n',\n",
       " 'INFO - 10/30/20 15:49:11 - 1 day, 23:29:44 -  467710 -  459.15 sent/s -   975.69 words/s - MLM-en:  3.8875 || MLM-ms:  3.9237 -  - model LR: 1.0342e-05\\n',\n",
       " 'INFO - 10/30/20 15:49:12 - 1 day, 23:29:45 -  467715 -  443.52 sent/s -   931.39 words/s - MLM-en:  4.4888 || MLM-ms:  3.5997 -  - model LR: 1.0342e-05\\n',\n",
       " 'INFO - 10/30/20 15:49:12 - 1 day, 23:29:45 -  467720 -  451.42 sent/s -   981.85 words/s - MLM-en:  3.9365 || MLM-ms:  4.2978 -  - model LR: 1.0342e-05\\n',\n",
       " 'INFO - 10/30/20 15:49:13 - 1 day, 23:29:46 -  467725 -  445.19 sent/s -   868.13 words/s - MLM-en:  3.6742 || MLM-ms:  3.9509 -  - model LR: 1.0342e-05\\n',\n",
       " 'INFO - 10/30/20 15:49:14 - 1 day, 23:29:47 -  467730 -  441.93 sent/s -   961.20 words/s - MLM-en:  3.9022 || MLM-ms:  2.7652 -  - model LR: 1.0341e-05\\n',\n",
       " 'INFO - 10/30/20 15:49:14 - 1 day, 23:29:48 -  467735 -  473.16 sent/s -   922.67 words/s - MLM-en:  3.7388 || MLM-ms:  3.8922 -  - model LR: 1.0341e-05\\n',\n",
       " 'INFO - 10/30/20 15:49:15 - 1 day, 23:29:48 -  467740 -  456.31 sent/s -  1015.30 words/s - MLM-en:  4.0442 || MLM-ms:  3.7819 -  - model LR: 1.0341e-05\\n',\n",
       " 'INFO - 10/30/20 15:49:16 - 1 day, 23:29:49 -  467745 -  439.83 sent/s -   857.67 words/s - MLM-en:  3.9539 || MLM-ms:  3.6102 -  - model LR: 1.0341e-05\\n',\n",
       " 'INFO - 10/30/20 15:49:17 - 1 day, 23:29:50 -  467750 -  452.23 sent/s -   949.68 words/s - MLM-en:  3.9699 || MLM-ms:  3.4026 -  - model LR: 1.0341e-05\\n',\n",
       " 'INFO - 10/30/20 15:49:17 - 1 day, 23:29:50 -  467755 -  453.39 sent/s -   884.12 words/s - MLM-en:  3.8126 || MLM-ms:  3.8223 -  - model LR: 1.0341e-05\\n',\n",
       " 'INFO - 10/30/20 15:49:18 - 1 day, 23:29:51 -  467760 -  453.91 sent/s -   998.61 words/s - MLM-en:  4.4370 || MLM-ms:  3.7321 -  - model LR: 1.0341e-05\\n',\n",
       " 'INFO - 10/30/20 15:49:19 - 1 day, 23:29:52 -  467765 -  454.62 sent/s -   988.80 words/s - MLM-en:  3.6262 || MLM-ms:  3.7797 -  - model LR: 1.0341e-05\\n',\n",
       " 'INFO - 10/30/20 15:49:19 - 1 day, 23:29:53 -  467770 -  435.99 sent/s -   904.69 words/s - MLM-en:  4.0235 || MLM-ms:  4.1731 -  - model LR: 1.0341e-05\\n',\n",
       " 'INFO - 10/30/20 15:49:20 - 1 day, 23:29:53 -  467775 -  459.05 sent/s -   986.96 words/s - MLM-en:  4.1793 || MLM-ms:  3.7140 -  - model LR: 1.0341e-05\\n',\n",
       " 'INFO - 10/30/20 15:49:21 - 1 day, 23:29:54 -  467780 -  458.01 sent/s -  1030.52 words/s - MLM-en:  4.1263 || MLM-ms:  3.4877 -  - model LR: 1.0341e-05\\n',\n",
       " 'INFO - 10/30/20 15:49:21 - 1 day, 23:29:55 -  467785 -  473.62 sent/s -  1030.13 words/s - MLM-en:  4.0097 || MLM-ms:  3.8667 -  - model LR: 1.0341e-05\\n',\n",
       " 'INFO - 10/30/20 15:49:22 - 1 day, 23:29:55 -  467790 -  440.85 sent/s -   969.86 words/s - MLM-en:  3.8165 || MLM-ms:  3.8882 -  - model LR: 1.0341e-05\\n',\n",
       " 'INFO - 10/30/20 15:49:23 - 1 day, 23:29:56 -  467795 -  454.74 sent/s -   943.58 words/s - MLM-en:  3.7523 || MLM-ms:  3.5170 -  - model LR: 1.0341e-05\\n',\n",
       " 'INFO - 10/30/20 15:49:24 - 1 day, 23:29:57 -  467800 -  452.79 sent/s -   996.14 words/s - MLM-en:  3.9580 || MLM-ms:  3.7036 -  - model LR: 1.0341e-05\\n',\n",
       " 'INFO - 10/30/20 15:49:24 - 1 day, 23:29:57 -  467805 -  460.10 sent/s -  1023.73 words/s - MLM-en:  4.2252 || MLM-ms:  3.7596 -  - model LR: 1.0341e-05\\n',\n",
       " 'INFO - 10/30/20 15:49:25 - 1 day, 23:29:58 -  467810 -  452.69 sent/s -   950.65 words/s - MLM-en:  3.8228 || MLM-ms:  3.1855 -  - model LR: 1.0341e-05\\n',\n",
       " 'INFO - 10/30/20 15:49:26 - 1 day, 23:29:59 -  467815 -  441.89 sent/s -   950.07 words/s - MLM-en:  3.8706 || MLM-ms:  3.9007 -  - model LR: 1.0341e-05\\n',\n",
       " 'INFO - 10/30/20 15:49:26 - 1 day, 23:30:00 -  467820 -  453.80 sent/s -   975.67 words/s - MLM-en:  4.0998 || MLM-ms:  3.6428 -  - model LR: 1.0340e-05\\n',\n",
       " 'INFO - 10/30/20 15:49:27 - 1 day, 23:30:00 -  467825 -  452.83 sent/s -  1041.52 words/s - MLM-en:  3.4344 || MLM-ms:  3.7509 -  - model LR: 1.0340e-05\\n',\n",
       " 'INFO - 10/30/20 15:49:28 - 1 day, 23:30:01 -  467830 -  505.14 sent/s -  1086.05 words/s - MLM-en:  3.6401 || MLM-ms:  3.7965 -  - model LR: 1.0340e-05\\n',\n",
       " 'INFO - 10/30/20 15:49:28 - 1 day, 23:30:02 -  467835 -  549.50 sent/s -  1181.42 words/s - MLM-en:  3.7871 || MLM-ms:  3.9665 -  - model LR: 1.0340e-05\\n',\n",
       " 'INFO - 10/30/20 15:49:29 - 1 day, 23:30:02 -  467840 -  547.77 sent/s -  1259.88 words/s - MLM-en:  3.7909 || MLM-ms:  3.7706 -  - model LR: 1.0340e-05\\n',\n",
       " 'INFO - 10/30/20 15:49:30 - 1 day, 23:30:03 -  467845 -  492.20 sent/s -  1045.92 words/s - MLM-en:  3.8259 || MLM-ms:  3.3472 -  - model LR: 1.0340e-05\\n',\n",
       " 'INFO - 10/30/20 15:49:30 - 1 day, 23:30:03 -  467850 -  454.61 sent/s -  1056.96 words/s - MLM-en:  4.0072 || MLM-ms:  3.5834 -  - model LR: 1.0340e-05\\n',\n",
       " 'INFO - 10/30/20 15:49:31 - 1 day, 23:30:04 -  467855 -  439.31 sent/s -   966.48 words/s - MLM-en:  4.0576 || MLM-ms:  3.9713 -  - model LR: 1.0340e-05\\n',\n",
       " 'INFO - 10/30/20 15:49:32 - 1 day, 23:30:05 -  467860 -  450.43 sent/s -  1002.20 words/s - MLM-en:  3.9767 || MLM-ms:  3.7987 -  - model LR: 1.0340e-05\\n',\n",
       " 'INFO - 10/30/20 15:49:32 - 1 day, 23:30:06 -  467865 -  450.50 sent/s -   968.57 words/s - MLM-en:  3.8711 || MLM-ms:  3.7466 -  - model LR: 1.0340e-05\\n',\n",
       " 'INFO - 10/30/20 15:49:33 - 1 day, 23:30:06 -  467870 -  448.55 sent/s -  1020.45 words/s - MLM-en:  3.9981 || MLM-ms:  4.1473 -  - model LR: 1.0340e-05\\n',\n",
       " 'INFO - 10/30/20 15:49:34 - 1 day, 23:30:07 -  467875 -  453.30 sent/s -   940.59 words/s - MLM-en:  3.8109 || MLM-ms:  3.3701 -  - model LR: 1.0340e-05\\n',\n",
       " 'INFO - 10/30/20 15:49:35 - 1 day, 23:30:08 -  467880 -  460.37 sent/s -   966.77 words/s - MLM-en:  3.9996 || MLM-ms:  3.8378 -  - model LR: 1.0340e-05\\n',\n",
       " 'INFO - 10/30/20 15:49:35 - 1 day, 23:30:08 -  467885 -  441.94 sent/s -   905.98 words/s - MLM-en:  4.2642 || MLM-ms:  3.7975 -  - model LR: 1.0340e-05\\n',\n",
       " 'INFO - 10/30/20 15:49:36 - 1 day, 23:30:09 -  467890 -  449.89 sent/s -   978.51 words/s - MLM-en:  4.2281 || MLM-ms:  3.3796 -  - model LR: 1.0340e-05\\n',\n",
       " 'INFO - 10/30/20 15:49:37 - 1 day, 23:30:10 -  467895 -  450.22 sent/s -   979.23 words/s - MLM-en:  3.9664 || MLM-ms:  3.4005 -  - model LR: 1.0340e-05\\n',\n",
       " 'INFO - 10/30/20 15:49:37 - 1 day, 23:30:11 -  467900 -  451.63 sent/s -   993.59 words/s - MLM-en:  4.1136 || MLM-ms:  3.9716 -  - model LR: 1.0340e-05\\n',\n",
       " 'INFO - 10/30/20 15:49:38 - 1 day, 23:30:11 -  467905 -  453.40 sent/s -   974.82 words/s - MLM-en:  3.5968 || MLM-ms:  4.1241 -  - model LR: 1.0340e-05\\n',\n",
       " 'INFO - 10/30/20 15:49:39 - 1 day, 23:30:12 -  467910 -  473.34 sent/s -  1029.52 words/s - MLM-en:  4.2098 || MLM-ms:  3.6862 -  - model LR: 1.0339e-05\\n',\n",
       " 'INFO - 10/30/20 15:49:39 - 1 day, 23:30:13 -  467915 -  454.79 sent/s -   932.31 words/s - MLM-en:  3.8223 || MLM-ms:  3.6247 -  - model LR: 1.0339e-05\\n',\n",
       " 'INFO - 10/30/20 15:49:40 - 1 day, 23:30:13 -  467920 -  454.23 sent/s -   976.60 words/s - MLM-en:  3.7917 || MLM-ms:  3.4666 -  - model LR: 1.0339e-05\\n',\n",
       " 'INFO - 10/30/20 15:49:41 - 1 day, 23:30:14 -  467925 -  477.37 sent/s -   942.82 words/s - MLM-en:  3.6798 || MLM-ms:  4.0460 -  - model LR: 1.0339e-05\\n',\n",
       " 'INFO - 10/30/20 15:49:41 - 1 day, 23:30:15 -  467930 -  553.19 sent/s -  1175.52 words/s - MLM-en:  3.8495 || MLM-ms:  3.6846 -  - model LR: 1.0339e-05\\n',\n",
       " 'INFO - 10/30/20 15:49:42 - 1 day, 23:30:15 -  467935 -  551.54 sent/s -  1240.97 words/s - MLM-en:  3.9158 || MLM-ms:  3.9732 -  - model LR: 1.0339e-05\\n',\n",
       " 'INFO - 10/30/20 15:49:43 - 1 day, 23:30:16 -  467940 -  552.70 sent/s -  1160.66 words/s - MLM-en:  3.8624 || MLM-ms:  4.0535 -  - model LR: 1.0339e-05\\n',\n",
       " 'INFO - 10/30/20 15:49:43 - 1 day, 23:30:16 -  467945 -  550.98 sent/s -  1129.51 words/s - MLM-en:  4.1703 || MLM-ms:  3.8635 -  - model LR: 1.0339e-05\\n',\n",
       " 'INFO - 10/30/20 15:49:44 - 1 day, 23:30:17 -  467950 -  552.82 sent/s -  1257.67 words/s - MLM-en:  3.8878 || MLM-ms:  3.6630 -  - model LR: 1.0339e-05\\n',\n",
       " 'INFO - 10/30/20 15:49:44 - 1 day, 23:30:18 -  467955 -  552.46 sent/s -  1173.98 words/s - MLM-en:  3.6486 || MLM-ms:  4.0327 -  - model LR: 1.0339e-05\\n',\n",
       " 'INFO - 10/30/20 15:49:45 - 1 day, 23:30:18 -  467960 -  550.81 sent/s -  1129.17 words/s - MLM-en:  3.8545 || MLM-ms:  3.9247 -  - model LR: 1.0339e-05\\n',\n",
       " 'INFO - 10/30/20 15:49:45 - 1 day, 23:30:19 -  467965 -  553.06 sent/s -  1078.46 words/s - MLM-en:  3.8634 || MLM-ms:  3.5618 -  - model LR: 1.0339e-05\\n',\n",
       " 'INFO - 10/30/20 15:49:46 - 1 day, 23:30:19 -  467970 -  550.55 sent/s -  1142.39 words/s - MLM-en:  3.5643 || MLM-ms:  3.9045 -  - model LR: 1.0339e-05\\n',\n",
       " 'INFO - 10/30/20 15:49:47 - 1 day, 23:30:20 -  467975 -  550.48 sent/s -  1142.25 words/s - MLM-en:  3.9030 || MLM-ms:  3.8851 -  - model LR: 1.0339e-05\\n',\n",
       " 'INFO - 10/30/20 15:49:47 - 1 day, 23:30:20 -  467980 -  543.47 sent/s -  1100.52 words/s - MLM-en:  3.6813 || MLM-ms:  4.0887 -  - model LR: 1.0339e-05\\n',\n",
       " 'INFO - 10/30/20 15:49:48 - 1 day, 23:30:21 -  467985 -  543.25 sent/s -  1113.66 words/s - MLM-en:  4.0643 || MLM-ms:  3.9501 -  - model LR: 1.0339e-05\\n',\n",
       " 'INFO - 10/30/20 15:49:48 - 1 day, 23:30:22 -  467990 -  548.69 sent/s -  1207.11 words/s - MLM-en:  3.9842 || MLM-ms:  4.1184 -  - model LR: 1.0339e-05\\n',\n",
       " 'INFO - 10/30/20 15:49:49 - 1 day, 23:30:22 -  467995 -  546.25 sent/s -  1229.06 words/s - MLM-en:  3.9741 || MLM-ms:  3.9794 -  - model LR: 1.0339e-05\\n',\n",
       " 'INFO - 10/30/20 15:49:50 - 1 day, 23:30:23 -  468000 -  551.27 sent/s -  1199.00 words/s - MLM-en:  3.7987 || MLM-ms:  3.7111 -  - model LR: 1.0338e-05\\n',\n",
       " 'INFO - 10/30/20 15:49:50 - 1 day, 23:30:23 -  468005 -  547.90 sent/s -  1123.20 words/s - MLM-en:  4.0875 || MLM-ms:  3.0074 -  - model LR: 1.0338e-05\\n',\n",
       " 'INFO - 10/30/20 15:49:51 - 1 day, 23:30:24 -  468010 -  549.34 sent/s -  1208.55 words/s - MLM-en:  3.9996 || MLM-ms:  3.6956 -  - model LR: 1.0338e-05\\n',\n",
       " 'INFO - 10/30/20 15:49:51 - 1 day, 23:30:25 -  468015 -  544.22 sent/s -  1197.28 words/s - MLM-en:  3.8181 || MLM-ms:  4.0226 -  - model LR: 1.0338e-05\\n',\n",
       " 'INFO - 10/30/20 15:49:52 - 1 day, 23:30:25 -  468020 -  546.78 sent/s -  1175.57 words/s - MLM-en:  4.1492 || MLM-ms:  3.6789 -  - model LR: 1.0338e-05\\n',\n",
       " 'INFO - 10/30/20 15:49:53 - 1 day, 23:30:26 -  468025 -  539.81 sent/s -  1174.09 words/s - MLM-en:  3.3391 || MLM-ms:  3.4889 -  - model LR: 1.0338e-05\\n',\n",
       " 'INFO - 10/30/20 15:49:53 - 1 day, 23:30:26 -  468030 -  533.45 sent/s -  1106.91 words/s - MLM-en:  3.9824 || MLM-ms:  3.6131 -  - model LR: 1.0338e-05\\n',\n",
       " 'INFO - 10/30/20 15:49:54 - 1 day, 23:30:27 -  468035 -  525.60 sent/s -  1156.32 words/s - MLM-en:  3.8783 || MLM-ms:  3.6692 -  - model LR: 1.0338e-05\\n',\n",
       " 'INFO - 10/30/20 15:49:54 - 1 day, 23:30:28 -  468040 -  453.00 sent/s -   996.59 words/s - MLM-en:  4.0845 || MLM-ms:  3.9175 -  - model LR: 1.0338e-05\\n',\n",
       " 'INFO - 10/30/20 15:49:55 - 1 day, 23:30:28 -  468045 -  471.61 sent/s -  1061.11 words/s - MLM-en:  3.9725 || MLM-ms:  3.9025 -  - model LR: 1.0338e-05\\n',\n",
       " 'INFO - 10/30/20 15:49:56 - 1 day, 23:30:29 -  468050 -  543.44 sent/s -  1209.16 words/s - MLM-en:  4.0167 || MLM-ms:  3.2953 -  - model LR: 1.0338e-05\\n',\n",
       " 'INFO - 10/30/20 15:49:56 - 1 day, 23:30:29 -  468055 -  550.23 sent/s -  1155.49 words/s - MLM-en:  3.7064 || MLM-ms:  3.6287 -  - model LR: 1.0338e-05\\n',\n",
       " 'INFO - 10/30/20 15:49:57 - 1 day, 23:30:30 -  468060 -  546.77 sent/s -  1216.57 words/s - MLM-en:  3.9849 || MLM-ms:  3.7936 -  - model LR: 1.0338e-05\\n',\n",
       " 'INFO - 10/30/20 15:49:57 - 1 day, 23:30:31 -  468065 -  545.30 sent/s -  1145.12 words/s - MLM-en:  3.9415 || MLM-ms:  3.1430 -  - model LR: 1.0338e-05\\n',\n",
       " 'INFO - 10/30/20 15:49:58 - 1 day, 23:30:31 -  468070 -  550.03 sent/s -  1196.32 words/s - MLM-en:  3.9454 || MLM-ms:  3.9034 -  - model LR: 1.0338e-05\\n',\n",
       " 'INFO - 10/30/20 15:49:59 - 1 day, 23:30:32 -  468075 -  508.11 sent/s -  1054.32 words/s - MLM-en:  3.8795 || MLM-ms:  3.8787 -  - model LR: 1.0338e-05\\n',\n",
       " 'INFO - 10/30/20 15:49:59 - 1 day, 23:30:33 -  468080 -  447.13 sent/s -   983.68 words/s - MLM-en:  4.2864 || MLM-ms:  3.9675 -  - model LR: 1.0338e-05\\n',\n",
       " 'INFO - 10/30/20 15:50:00 - 1 day, 23:30:33 -  468085 -  453.72 sent/s -   952.81 words/s - MLM-en:  3.2930 || MLM-ms:  3.8454 -  - model LR: 1.0338e-05\\n',\n",
       " 'INFO - 10/30/20 15:50:01 - 1 day, 23:30:34 -  468090 -  440.28 sent/s -   957.61 words/s - MLM-en:  4.2335 || MLM-ms:  3.4379 -  - model LR: 1.0337e-05\\n',\n",
       " 'INFO - 10/30/20 15:50:02 - 1 day, 23:30:35 -  468095 -  454.55 sent/s -   977.27 words/s - MLM-en:  4.1498 || MLM-ms:  3.6283 -  - model LR: 1.0337e-05\\n',\n",
       " 'INFO - 10/30/20 15:50:02 - 1 day, 23:30:35 -  468100 -  450.63 sent/s -   980.13 words/s - MLM-en:  4.1292 || MLM-ms:  3.8330 -  - model LR: 1.0337e-05\\n',\n",
       " 'INFO - 10/30/20 15:50:03 - 1 day, 23:30:36 -  468105 -  437.33 sent/s -   907.45 words/s - MLM-en:  4.3864 || MLM-ms:  3.3959 -  - model LR: 1.0337e-05\\n',\n",
       " 'INFO - 10/30/20 15:50:04 - 1 day, 23:30:37 -  468110 -  453.87 sent/s -   975.83 words/s - MLM-en:  3.8796 || MLM-ms:  3.8314 -  - model LR: 1.0337e-05\\n',\n",
       " 'INFO - 10/30/20 15:50:04 - 1 day, 23:30:38 -  468115 -  467.99 sent/s -   947.68 words/s - MLM-en:  4.0139 || MLM-ms:  3.6054 -  - model LR: 1.0337e-05\\n',\n",
       " 'INFO - 10/30/20 15:50:05 - 1 day, 23:30:38 -  468120 -  452.29 sent/s -   961.12 words/s - MLM-en:  3.9659 || MLM-ms:  3.4337 -  - model LR: 1.0337e-05\\n',\n",
       " 'INFO - 10/30/20 15:50:06 - 1 day, 23:30:39 -  468125 -  454.02 sent/s -   998.85 words/s - MLM-en:  4.2396 || MLM-ms:  4.2137 -  - model LR: 1.0337e-05\\n',\n",
       " 'INFO - 10/30/20 15:50:06 - 1 day, 23:30:40 -  468130 -  453.60 sent/s -   963.90 words/s - MLM-en:  3.8471 || MLM-ms:  3.7036 -  - model LR: 1.0337e-05\\n',\n",
       " 'INFO - 10/30/20 15:50:07 - 1 day, 23:30:40 -  468135 -  459.34 sent/s -   953.13 words/s - MLM-en:  4.2724 || MLM-ms:  3.9854 -  - model LR: 1.0337e-05\\n',\n",
       " 'INFO - 10/30/20 15:50:08 - 1 day, 23:30:41 -  468140 -  453.86 sent/s -   941.76 words/s - MLM-en:  4.2183 || MLM-ms:  3.8769 -  - model LR: 1.0337e-05\\n',\n",
       " 'INFO - 10/30/20 15:50:09 - 1 day, 23:30:42 -  468145 -  453.62 sent/s -  1009.30 words/s - MLM-en:  4.3668 || MLM-ms:  3.9984 -  - model LR: 1.0337e-05\\n',\n",
       " 'INFO - 10/30/20 15:50:09 - 1 day, 23:30:42 -  468150 -  452.85 sent/s -  1052.88 words/s - MLM-en:  4.0398 || MLM-ms:  4.2185 -  - model LR: 1.0337e-05\\n',\n",
       " 'INFO - 10/30/20 15:50:10 - 1 day, 23:30:43 -  468155 -  458.99 sent/s -  1044.20 words/s - MLM-en:  4.0672 || MLM-ms:  3.9952 -  - model LR: 1.0337e-05\\n',\n",
       " 'INFO - 10/30/20 15:50:11 - 1 day, 23:30:44 -  468160 -  453.67 sent/s -   930.02 words/s - MLM-en:  4.7945 || MLM-ms:  3.9746 -  - model LR: 1.0337e-05\\n',\n",
       " 'INFO - 10/30/20 15:50:11 - 1 day, 23:30:45 -  468165 -  454.62 sent/s -   966.07 words/s - MLM-en:  3.9937 || MLM-ms:  3.6972 -  - model LR: 1.0337e-05\\n',\n",
       " 'INFO - 10/30/20 15:50:12 - 1 day, 23:30:45 -  468170 -  453.54 sent/s -   963.78 words/s - MLM-en:  3.9541 || MLM-ms:  3.4458 -  - model LR: 1.0337e-05\\n',\n",
       " 'INFO - 10/30/20 15:50:13 - 1 day, 23:30:46 -  468175 -  453.36 sent/s -   997.40 words/s - MLM-en:  3.5880 || MLM-ms:  3.5030 -  - model LR: 1.0337e-05\\n',\n",
       " 'INFO - 10/30/20 15:50:13 - 1 day, 23:30:47 -  468180 -  460.14 sent/s -   954.79 words/s - MLM-en:  4.3671 || MLM-ms:  3.5700 -  - model LR: 1.0336e-05\\n',\n",
       " 'INFO - 10/30/20 15:50:14 - 1 day, 23:30:47 -  468185 -  445.96 sent/s -   992.25 words/s - MLM-en:  4.4546 || MLM-ms:  4.1349 -  - model LR: 1.0336e-05\\n',\n",
       " 'INFO - 10/30/20 15:50:15 - 1 day, 23:30:48 -  468190 -  454.42 sent/s -  1033.81 words/s - MLM-en:  4.0626 || MLM-ms:  4.0226 -  - model LR: 1.0336e-05\\n',\n",
       " 'INFO - 10/30/20 15:50:16 - 1 day, 23:30:49 -  468195 -  459.41 sent/s -   976.24 words/s - MLM-en:  3.8269 || MLM-ms:  3.9835 -  - model LR: 1.0336e-05\\n',\n",
       " 'INFO - 10/30/20 15:50:16 - 1 day, 23:30:50 -  468200 -  448.01 sent/s -   963.22 words/s - MLM-en:  4.0719 || MLM-ms:  3.8774 -  - model LR: 1.0336e-05\\n',\n",
       " 'INFO - 10/30/20 15:50:17 - 1 day, 23:30:50 -  468205 -  493.60 sent/s -  1085.92 words/s - MLM-en:  3.9464 || MLM-ms:  3.7913 -  - model LR: 1.0336e-05\\n',\n",
       " 'INFO - 10/30/20 15:50:18 - 1 day, 23:30:51 -  468210 -  542.14 sent/s -  1097.84 words/s - MLM-en:  3.7846 || MLM-ms:  3.6040 -  - model LR: 1.0336e-05\\n',\n",
       " 'INFO - 10/30/20 15:50:18 - 1 day, 23:30:51 -  468215 -  546.40 sent/s -  1147.44 words/s - MLM-en:  3.9692 || MLM-ms:  4.2560 -  - model LR: 1.0336e-05\\n',\n",
       " 'INFO - 10/30/20 15:50:19 - 1 day, 23:30:52 -  468220 -  453.08 sent/s -   985.44 words/s - MLM-en:  3.9519 || MLM-ms:  3.9975 -  - model LR: 1.0336e-05\\n',\n",
       " 'INFO - 10/30/20 15:50:19 - 1 day, 23:30:53 -  468225 -  507.46 sent/s -  1065.67 words/s - MLM-en:  3.9079 || MLM-ms:  4.2034 -  - model LR: 1.0336e-05\\n',\n",
       " 'INFO - 10/30/20 15:50:20 - 1 day, 23:30:53 -  468230 -  470.54 sent/s -   964.60 words/s - MLM-en:  4.1327 || MLM-ms:  3.6746 -  - model LR: 1.0336e-05\\n',\n",
       " 'INFO - 10/30/20 15:50:21 - 1 day, 23:30:54 -  468235 -  453.76 sent/s -   964.24 words/s - MLM-en:  4.2163 || MLM-ms:  3.6791 -  - model LR: 1.0336e-05\\n',\n",
       " 'INFO - 10/30/20 15:50:21 - 1 day, 23:30:55 -  468240 -  538.94 sent/s -  1212.62 words/s - MLM-en:  4.3321 || MLM-ms:  3.7668 -  - model LR: 1.0336e-05\\n',\n",
       " 'INFO - 10/30/20 15:50:22 - 1 day, 23:30:55 -  468245 -  548.52 sent/s -  1220.46 words/s - MLM-en:  3.8353 || MLM-ms:  3.8413 -  - model LR: 1.0336e-05\\n',\n",
       " 'INFO - 10/30/20 15:50:23 - 1 day, 23:30:56 -  468250 -  549.03 sent/s -  1152.97 words/s - MLM-en:  3.9679 || MLM-ms:  3.8329 -  - model LR: 1.0336e-05\\n',\n",
       " 'INFO - 10/30/20 15:50:23 - 1 day, 23:30:56 -  468255 -  549.49 sent/s -  1167.68 words/s - MLM-en:  3.5584 || MLM-ms:  3.5919 -  - model LR: 1.0336e-05\\n',\n",
       " 'INFO - 10/30/20 15:50:24 - 1 day, 23:30:57 -  468260 -  546.79 sent/s -  1175.61 words/s - MLM-en:  3.6445 || MLM-ms:  3.6876 -  - model LR: 1.0336e-05\\n',\n",
       " 'INFO - 10/30/20 15:50:24 - 1 day, 23:30:58 -  468265 -  544.91 sent/s -  1171.57 words/s - MLM-en:  3.9818 || MLM-ms:  4.0007 -  - model LR: 1.0336e-05\\n',\n",
       " 'INFO - 10/30/20 15:50:25 - 1 day, 23:30:58 -  468270 -  548.01 sent/s -  1191.92 words/s - MLM-en:  3.8973 || MLM-ms:  3.5131 -  - model LR: 1.0335e-05\\n',\n",
       " 'INFO - 10/30/20 15:50:26 - 1 day, 23:30:59 -  468275 -  546.64 sent/s -  1093.28 words/s - MLM-en:  4.1290 || MLM-ms:  3.8009 -  - model LR: 1.0335e-05\\n',\n",
       " 'INFO - 10/30/20 15:50:26 - 1 day, 23:30:59 -  468280 -  548.81 sent/s -  1125.05 words/s - MLM-en:  3.9678 || MLM-ms:  3.9999 -  - model LR: 1.0335e-05\\n',\n",
       " 'INFO - 10/30/20 15:50:27 - 1 day, 23:31:00 -  468285 -  545.10 sent/s -  1212.85 words/s - MLM-en:  3.9157 || MLM-ms:  3.8243 -  - model LR: 1.0335e-05\\n',\n",
       " 'INFO - 10/30/20 15:50:27 - 1 day, 23:31:00 -  468290 -  546.77 sent/s -  1202.90 words/s - MLM-en:  3.7513 || MLM-ms:  3.8418 -  - model LR: 1.0335e-05\\n',\n",
       " 'INFO - 10/30/20 15:50:28 - 1 day, 23:31:01 -  468295 -  545.65 sent/s -  1145.87 words/s - MLM-en:  3.4788 || MLM-ms:  3.5694 -  - model LR: 1.0335e-05\\n',\n",
       " 'INFO - 10/30/20 15:50:28 - 1 day, 23:31:02 -  468300 -  551.81 sent/s -  1117.41 words/s - MLM-en:  3.9971 || MLM-ms:  3.5293 -  - model LR: 1.0335e-05\\n',\n",
       " 'INFO - 10/30/20 15:50:29 - 1 day, 23:31:02 -  468305 -  550.29 sent/s -  1169.36 words/s - MLM-en:  3.8914 || MLM-ms:  3.7155 -  - model LR: 1.0335e-05\\n',\n",
       " 'INFO - 10/30/20 15:50:30 - 1 day, 23:31:03 -  468310 -  546.94 sent/s -  1134.90 words/s - MLM-en:  4.1777 || MLM-ms:  3.9545 -  - model LR: 1.0335e-05\\n',\n",
       " 'INFO - 10/30/20 15:50:30 - 1 day, 23:31:03 -  468315 -  520.98 sent/s -  1120.12 words/s - MLM-en:  3.9653 || MLM-ms:  3.8571 -  - model LR: 1.0335e-05\\n',\n",
       " 'INFO - 10/30/20 15:50:31 - 1 day, 23:31:04 -  468320 -  454.16 sent/s -   999.15 words/s - MLM-en:  4.0198 || MLM-ms:  3.8807 -  - model LR: 1.0335e-05\\n',\n",
       " 'INFO - 10/30/20 15:50:32 - 1 day, 23:31:05 -  468325 -  452.11 sent/s -   938.12 words/s - MLM-en:  3.7894 || MLM-ms:  4.0810 -  - model LR: 1.0335e-05\\n',\n",
       " 'INFO - 10/30/20 15:50:32 - 1 day, 23:31:05 -  468330 -  513.53 sent/s -  1104.08 words/s - MLM-en:  3.6597 || MLM-ms:  3.5414 -  - model LR: 1.0335e-05\\n',\n",
       " 'INFO - 10/30/20 15:50:33 - 1 day, 23:31:06 -  468335 -  543.75 sent/s -  1182.65 words/s - MLM-en:  4.0734 || MLM-ms:  3.6738 -  - model LR: 1.0335e-05\\n',\n",
       " 'INFO - 10/30/20 15:50:33 - 1 day, 23:31:07 -  468340 -  548.55 sent/s -  1234.24 words/s - MLM-en:  4.2333 || MLM-ms:  3.5416 -  - model LR: 1.0335e-05\\n',\n",
       " 'INFO - 10/30/20 15:50:34 - 1 day, 23:31:07 -  468345 -  549.75 sent/s -  1168.21 words/s - MLM-en:  3.6810 || MLM-ms:  3.8610 -  - model LR: 1.0335e-05\\n',\n",
       " 'INFO - 10/30/20 15:50:35 - 1 day, 23:31:08 -  468350 -  548.08 sent/s -  1205.77 words/s - MLM-en:  3.7625 || MLM-ms:  3.9457 -  - model LR: 1.0335e-05\\n',\n",
       " 'INFO - 10/30/20 15:50:35 - 1 day, 23:31:08 -  468355 -  546.01 sent/s -  1187.57 words/s - MLM-en:  3.7578 || MLM-ms:  3.6669 -  - model LR: 1.0335e-05\\n',\n",
       " 'INFO - 10/30/20 15:50:36 - 1 day, 23:31:09 -  468360 -  545.97 sent/s -  1201.13 words/s - MLM-en:  4.1965 || MLM-ms:  3.8242 -  - model LR: 1.0334e-05\\n',\n",
       " 'INFO - 10/30/20 15:50:36 - 1 day, 23:31:10 -  468365 -  545.02 sent/s -  1199.05 words/s - MLM-en:  4.0952 || MLM-ms:  3.3339 -  - model LR: 1.0334e-05\\n',\n",
       " 'INFO - 10/30/20 15:50:37 - 1 day, 23:31:10 -  468370 -  547.01 sent/s -  1162.40 words/s - MLM-en:  4.0760 || MLM-ms:  3.5094 -  - model LR: 1.0334e-05\\n',\n",
       " 'INFO - 10/30/20 15:50:38 - 1 day, 23:31:11 -  468375 -  547.57 sent/s -  1245.73 words/s - MLM-en:  3.9543 || MLM-ms:  4.1796 -  - model LR: 1.0334e-05\\n',\n",
       " 'INFO - 10/30/20 15:50:38 - 1 day, 23:31:11 -  468380 -  549.72 sent/s -  1209.38 words/s - MLM-en:  3.4898 || MLM-ms:  3.9729 -  - model LR: 1.0334e-05\\n',\n",
       " 'INFO - 10/30/20 15:50:39 - 1 day, 23:31:12 -  468385 -  549.02 sent/s -  1125.49 words/s - MLM-en:  3.8045 || MLM-ms:  4.0185 -  - model LR: 1.0334e-05\\n',\n",
       " 'INFO - 10/30/20 15:50:39 - 1 day, 23:31:12 -  468390 -  549.44 sent/s -  1167.55 words/s - MLM-en:  3.7706 || MLM-ms:  3.7246 -  - model LR: 1.0334e-05\\n',\n",
       " 'INFO - 10/30/20 15:50:40 - 1 day, 23:31:13 -  468395 -  533.85 sent/s -  1241.21 words/s - MLM-en:  3.9608 || MLM-ms:  3.9712 -  - model LR: 1.0334e-05\\n',\n",
       " 'INFO - 10/30/20 15:50:40 - 1 day, 23:31:14 -  468400 -  546.53 sent/s -  1175.04 words/s - MLM-en:  4.1887 || MLM-ms:  3.7858 -  - model LR: 1.0334e-05\\n',\n",
       " 'INFO - 10/30/20 15:50:41 - 1 day, 23:31:14 -  468405 -  547.08 sent/s -  1135.19 words/s - MLM-en:  4.4422 || MLM-ms:  3.6340 -  - model LR: 1.0334e-05\\n',\n",
       " 'INFO - 10/30/20 15:50:42 - 1 day, 23:31:15 -  468410 -  547.31 sent/s -  1135.66 words/s - MLM-en:  4.0678 || MLM-ms:  3.9592 -  - model LR: 1.0334e-05\\n',\n",
       " 'INFO - 10/30/20 15:50:42 - 1 day, 23:31:15 -  468415 -  545.50 sent/s -  1213.75 words/s - MLM-en:  3.8555 || MLM-ms:  3.5546 -  - model LR: 1.0334e-05\\n',\n",
       " 'INFO - 10/30/20 15:50:43 - 1 day, 23:31:16 - ============ End of epoch 598 ============\\n',\n",
       " 'INFO - 10/30/20 15:57:16 - 1 day, 23:37:49 - epoch -> 598.000000\\n',\n",
       " 'INFO - 10/30/20 15:57:16 - 1 day, 23:37:49 - valid_en_mlm_ppl -> 59.945900\\n',\n",
       " 'INFO - 10/30/20 15:57:16 - 1 day, 23:37:49 - valid_en_mlm_acc -> 34.638216\\n',\n",
       " 'INFO - 10/30/20 15:57:16 - 1 day, 23:37:49 - valid_ms_mlm_ppl -> 59.510927\\n',\n",
       " 'INFO - 10/30/20 15:57:16 - 1 day, 23:37:49 - valid_ms_mlm_acc -> 35.334600\\n',\n",
       " 'INFO - 10/30/20 15:57:16 - 1 day, 23:37:49 - valid_mlm_ppl -> 59.728414\\n',\n",
       " 'INFO - 10/30/20 15:57:16 - 1 day, 23:37:49 - valid_mlm_acc -> 34.986408\\n',\n",
       " 'INFO - 10/30/20 15:57:16 - 1 day, 23:37:49 - test_en_mlm_ppl -> 72.515633\\n',\n",
       " 'INFO - 10/30/20 15:57:16 - 1 day, 23:37:49 - test_en_mlm_acc -> 32.504551\\n',\n",
       " 'INFO - 10/30/20 15:57:16 - 1 day, 23:37:49 - test_ms_mlm_ppl -> 83.677843\\n',\n",
       " 'INFO - 10/30/20 15:57:16 - 1 day, 23:37:49 - test_ms_mlm_acc -> 30.982778\\n',\n",
       " 'INFO - 10/30/20 15:57:16 - 1 day, 23:37:49 - test_mlm_ppl -> 78.096738\\n',\n",
       " 'INFO - 10/30/20 15:57:16 - 1 day, 23:37:49 - test_mlm_acc -> 31.743664\\n',\n",
       " 'INFO - 10/30/20 15:57:16 - 1 day, 23:37:49 - __log__:{\"epoch\": 598, \"valid_en_mlm_ppl\": 59.94590003986971, \"valid_en_mlm_acc\": 34.638215947376864, \"valid_ms_mlm_ppl\": 59.510927275069164, \"valid_ms_mlm_acc\": 35.33459995777918, \"valid_mlm_ppl\": 59.72841365746944, \"valid_mlm_acc\": 34.98640795257802, \"test_en_mlm_ppl\": 72.51563336120316, \"test_en_mlm_acc\": 32.50455055962201, \"test_ms_mlm_ppl\": 83.67784334882177, \"test_ms_mlm_acc\": 30.982777825379145, \"test_mlm_ppl\": 78.09673835501246, \"test_mlm_acc\": 31.743664192500578}\\n',\n",
       " 'INFO - 10/30/20 15:57:16 - 1 day, 23:37:49 - New best score for valid_mlm_ppl: 59.728414\\n',\n",
       " 'INFO - 10/30/20 15:57:16 - 1 day, 23:37:49 - Saving best-valid_mlm_ppl to ./new_dumped/xlm_R/1/best-valid_mlm_ppl.pth ...\\n',\n",
       " 'WARNING - 10/30/20 15:57:16 - 1 day, 23:37:49 - Saving model parameters ...\\n',\n",
       " 'INFO - 10/30/20 15:57:17 - 1 day, 23:37:50 - ============== nanda logger matric and biggest\\n',\n",
       " 'INFO - 10/30/20 15:57:18 - 1 day, 23:37:51 - valid_mlm_ppl\\n',\n",
       " 'INFO - 10/30/20 15:57:18 - 1 day, 23:37:51 - False\\n',\n",
       " 'INFO - 10/30/20 15:57:18 - 1 day, 23:37:51 - New best validation score: 59.728414\\n',\n",
       " 'INFO - 10/30/20 15:57:18 - 1 day, 23:37:51 - Saving checkpoint to ./new_dumped/xlm_R/1/checkpoint.pth ...\\n',\n",
       " 'WARNING - 10/30/20 15:57:18 - 1 day, 23:37:51 - Saving model parameters ...\\n',\n",
       " 'WARNING - 10/30/20 15:57:18 - 1 day, 23:37:51 - Saving model optimizer ...\\n',\n",
       " 'INFO - 10/30/20 15:57:21 - 1 day, 23:37:54 - ============ Starting epoch 599 ... ============\\n',\n",
       " 'INFO - 10/30/20 15:57:22 - 1 day, 23:37:55 -  468420 -    0.80 sent/s -     1.80 words/s - MLM-en:  3.7581 || MLM-ms:  3.9157 -  - model LR: 1.0334e-05\\n',\n",
       " 'INFO - 10/30/20 15:57:22 - 1 day, 23:37:55 -  468425 -  512.29 sent/s -  1088.61 words/s - MLM-en:  3.8043 || MLM-ms:  3.7345 -  - model LR: 1.0334e-05\\n',\n",
       " 'INFO - 10/30/20 15:57:23 - 1 day, 23:37:56 -  468430 -  486.43 sent/s -  1070.14 words/s - MLM-en:  4.0964 || MLM-ms:  4.1550 -  - model LR: 1.0334e-05\\n',\n",
       " 'INFO - 10/30/20 15:57:24 - 1 day, 23:37:57 -  468435 -  477.72 sent/s -   991.27 words/s - MLM-en:  3.8417 || MLM-ms:  3.7510 -  - model LR: 1.0334e-05\\n',\n",
       " 'INFO - 10/30/20 15:57:24 - 1 day, 23:37:57 -  468440 -  457.05 sent/s -  1039.79 words/s - MLM-en:  4.0132 || MLM-ms:  3.7575 -  - model LR: 1.0334e-05\\n',\n",
       " 'INFO - 10/30/20 15:57:25 - 1 day, 23:37:58 -  468445 -  452.93 sent/s -   973.81 words/s - MLM-en:  3.5306 || MLM-ms:  3.7228 -  - model LR: 1.0334e-05\\n',\n",
       " 'INFO - 10/30/20 15:57:26 - 1 day, 23:37:59 -  468450 -  460.83 sent/s -   979.26 words/s - MLM-en:  3.9679 || MLM-ms:  3.8533 -  - model LR: 1.0334e-05\\n',\n",
       " 'INFO - 10/30/20 15:57:26 - 1 day, 23:38:00 -  468455 -  459.32 sent/s -   999.03 words/s - MLM-en:  4.3588 || MLM-ms:  3.4497 -  - model LR: 1.0333e-05\\n',\n",
       " 'INFO - 10/30/20 15:57:27 - 1 day, 23:38:00 -  468460 -  453.76 sent/s -   952.90 words/s - MLM-en:  3.7640 || MLM-ms:  3.5692 -  - model LR: 1.0333e-05\\n',\n",
       " 'INFO - 10/30/20 15:57:28 - 1 day, 23:38:01 -  468465 -  453.51 sent/s -   952.36 words/s - MLM-en:  3.9674 || MLM-ms:  4.0925 -  - model LR: 1.0333e-05\\n',\n",
       " 'INFO - 10/30/20 15:57:28 - 1 day, 23:38:02 -  468470 -  463.64 sent/s -   985.24 words/s - MLM-en:  4.0783 || MLM-ms:  3.6405 -  - model LR: 1.0333e-05\\n',\n",
       " 'INFO - 10/30/20 15:57:29 - 1 day, 23:38:02 -  468475 -  441.55 sent/s -   949.33 words/s - MLM-en:  4.2534 || MLM-ms:  3.8919 -  - model LR: 1.0333e-05\\n',\n",
       " 'INFO - 10/30/20 15:57:30 - 1 day, 23:38:03 -  468480 -  448.85 sent/s -   998.68 words/s - MLM-en:  3.6977 || MLM-ms:  4.0184 -  - model LR: 1.0333e-05\\n',\n",
       " 'INFO - 10/30/20 15:57:31 - 1 day, 23:38:04 -  468485 -  454.19 sent/s -   999.23 words/s - MLM-en:  3.9903 || MLM-ms:  3.6427 -  - model LR: 1.0333e-05\\n',\n",
       " 'INFO - 10/30/20 15:57:31 - 1 day, 23:38:04 -  468490 -  459.66 sent/s -   988.28 words/s - MLM-en:  3.8306 || MLM-ms:  3.7813 -  - model LR: 1.0333e-05\\n',\n",
       " 'INFO - 10/30/20 15:57:32 - 1 day, 23:38:05 -  468495 -  471.99 sent/s -  1050.19 words/s - MLM-en:  3.8682 || MLM-ms:  4.0299 -  - model LR: 1.0333e-05\\n',\n",
       " 'INFO - 10/30/20 15:57:33 - 1 day, 23:38:06 -  468500 -  467.93 sent/s -  1017.76 words/s - MLM-en:  4.3983 || MLM-ms:  3.8809 -  - model LR: 1.0333e-05\\n',\n",
       " 'INFO - 10/30/20 15:57:33 - 1 day, 23:38:06 -  468505 -  488.30 sent/s -  1049.84 words/s - MLM-en:  3.9635 || MLM-ms:  3.7396 -  - model LR: 1.0333e-05\\n',\n",
       " 'INFO - 10/30/20 15:57:34 - 1 day, 23:38:07 -  468510 -  452.44 sent/s -  1029.30 words/s - MLM-en:  3.7597 || MLM-ms:  4.0698 -  - model LR: 1.0333e-05\\n',\n",
       " 'INFO - 10/30/20 15:57:35 - 1 day, 23:38:08 -  468515 -  452.68 sent/s -   984.57 words/s - MLM-en:  4.0112 || MLM-ms:  3.9073 -  - model LR: 1.0333e-05\\n',\n",
       " 'INFO - 10/30/20 15:57:35 - 1 day, 23:38:09 -  468520 -  482.19 sent/s -  1072.86 words/s - MLM-en:  3.8260 || MLM-ms:  4.1572 -  - model LR: 1.0333e-05\\n',\n",
       " 'INFO - 10/30/20 15:57:36 - 1 day, 23:38:09 -  468525 -  496.15 sent/s -  1041.92 words/s - MLM-en:  4.0622 || MLM-ms:  3.5921 -  - model LR: 1.0333e-05\\n',\n",
       " 'INFO - 10/30/20 15:57:37 - 1 day, 23:38:10 -  468530 -  453.89 sent/s -   964.53 words/s - MLM-en:  3.9721 || MLM-ms:  4.0298 -  - model LR: 1.0333e-05\\n',\n",
       " 'INFO - 10/30/20 15:57:37 - 1 day, 23:38:11 -  468535 -  447.34 sent/s -  1017.69 words/s - MLM-en:  3.9840 || MLM-ms:  3.5691 -  - model LR: 1.0333e-05\\n',\n",
       " 'INFO - 10/30/20 15:57:38 - 1 day, 23:38:11 -  468540 -  473.19 sent/s -   981.86 words/s - MLM-en:  3.8326 || MLM-ms:  3.8962 -  - model LR: 1.0333e-05\\n',\n",
       " 'INFO - 10/30/20 15:57:39 - 1 day, 23:38:12 -  468545 -  465.27 sent/s -   977.07 words/s - MLM-en:  4.3904 || MLM-ms:  4.1118 -  - model LR: 1.0332e-05\\n',\n",
       " 'INFO - 10/30/20 15:57:39 - 1 day, 23:38:13 -  468550 -  457.67 sent/s -   961.11 words/s - MLM-en:  3.6729 || MLM-ms:  4.0237 -  - model LR: 1.0332e-05\\n',\n",
       " 'INFO - 10/30/20 15:57:40 - 1 day, 23:38:13 -  468555 -  457.76 sent/s -   961.29 words/s - MLM-en:  3.5920 || MLM-ms:  4.4727 -  - model LR: 1.0332e-05\\n',\n",
       " 'INFO - 10/30/20 15:57:41 - 1 day, 23:38:14 -  468560 -  441.80 sent/s -  1005.09 words/s - MLM-en:  3.6503 || MLM-ms:  3.8173 -  - model LR: 1.0332e-05\\n',\n",
       " 'INFO - 10/30/20 15:57:42 - 1 day, 23:38:15 -  468565 -  446.62 sent/s -   949.08 words/s - MLM-en:  4.0088 || MLM-ms:  3.6362 -  - model LR: 1.0332e-05\\n',\n",
       " 'INFO - 10/30/20 15:57:42 - 1 day, 23:38:15 -  468570 -  552.98 sent/s -  1202.74 words/s - MLM-en:  3.7079 || MLM-ms:  3.5615 -  - model LR: 1.0332e-05\\n',\n",
       " 'INFO - 10/30/20 15:57:43 - 1 day, 23:38:16 -  468575 -  553.15 sent/s -  1216.92 words/s - MLM-en:  4.0499 || MLM-ms:  3.2946 -  - model LR: 1.0332e-05\\n',\n",
       " 'INFO - 10/30/20 15:57:43 - 1 day, 23:38:17 -  468580 -  551.68 sent/s -  1172.32 words/s - MLM-en:  4.4009 || MLM-ms:  3.4970 -  - model LR: 1.0332e-05\\n',\n",
       " 'INFO - 10/30/20 15:57:44 - 1 day, 23:38:17 -  468585 -  552.67 sent/s -  1174.43 words/s - MLM-en:  4.1469 || MLM-ms:  3.7366 -  - model LR: 1.0332e-05\\n',\n",
       " 'INFO - 10/30/20 15:57:45 - 1 day, 23:38:18 -  468590 -  550.43 sent/s -  1210.94 words/s - MLM-en:  4.1116 || MLM-ms:  3.9728 -  - model LR: 1.0332e-05\\n',\n",
       " 'INFO - 10/30/20 15:57:45 - 1 day, 23:38:18 -  468595 -  551.57 sent/s -  1199.66 words/s - MLM-en:  4.7994 || MLM-ms:  3.3694 -  - model LR: 1.0332e-05\\n',\n",
       " 'INFO - 10/30/20 15:57:46 - 1 day, 23:38:19 -  468600 -  552.94 sent/s -  1119.71 words/s - MLM-en:  3.9615 || MLM-ms:  4.0302 -  - model LR: 1.0332e-05\\n',\n",
       " 'INFO - 10/30/20 15:57:46 - 1 day, 23:38:19 -  468605 -  552.11 sent/s -  1173.24 words/s - MLM-en:  3.6507 || MLM-ms:  3.7968 -  - model LR: 1.0332e-05\\n',\n",
       " 'INFO - 10/30/20 15:57:47 - 1 day, 23:38:20 -  468610 -  553.80 sent/s -  1093.75 words/s - MLM-en:  4.1348 || MLM-ms:  3.8897 -  - model LR: 1.0332e-05\\n',\n",
       " 'INFO - 10/30/20 15:57:47 - 1 day, 23:38:21 -  468615 -  551.71 sent/s -  1199.97 words/s - MLM-en:  3.7678 || MLM-ms:  3.8178 -  - model LR: 1.0332e-05\\n',\n",
       " 'INFO - 10/30/20 15:57:48 - 1 day, 23:38:21 -  468620 -  554.04 sent/s -  1177.33 words/s - MLM-en:  3.9477 || MLM-ms:  3.8997 -  - model LR: 1.0332e-05\\n',\n",
       " 'INFO - 10/30/20 15:57:49 - 1 day, 23:38:22 -  468625 -  549.47 sent/s -  1153.88 words/s - MLM-en:  3.9215 || MLM-ms:  3.6675 -  - model LR: 1.0332e-05\\n',\n",
       " 'INFO - 10/30/20 15:57:49 - 1 day, 23:38:22 -  468630 -  552.81 sent/s -  1160.89 words/s - MLM-en:  4.1343 || MLM-ms:  3.7890 -  - model LR: 1.0332e-05\\n',\n",
       " 'INFO - 10/30/20 15:57:50 - 1 day, 23:38:23 -  468635 -  551.40 sent/s -  1185.52 words/s - MLM-en:  4.0309 || MLM-ms:  3.5599 -  - model LR: 1.0331e-05\\n',\n",
       " 'INFO - 10/30/20 15:57:50 - 1 day, 23:38:24 -  468640 -  550.44 sent/s -  1169.69 words/s - MLM-en:  4.7583 || MLM-ms:  3.9933 -  - model LR: 1.0331e-05\\n',\n",
       " 'INFO - 10/30/20 15:57:51 - 1 day, 23:38:24 -  468645 -  553.05 sent/s -  1202.87 words/s - MLM-en:  4.0296 || MLM-ms:  3.3559 -  - model LR: 1.0331e-05\\n',\n",
       " 'INFO - 10/30/20 15:57:51 - 1 day, 23:38:25 -  468650 -  550.13 sent/s -  1114.01 words/s - MLM-en:  4.0084 || MLM-ms:  3.9434 -  - model LR: 1.0331e-05\\n',\n",
       " 'INFO - 10/30/20 15:57:52 - 1 day, 23:38:25 -  468655 -  550.57 sent/s -  1183.73 words/s - MLM-en:  3.8400 || MLM-ms:  3.6997 -  - model LR: 1.0331e-05\\n',\n",
       " 'INFO - 10/30/20 15:57:53 - 1 day, 23:38:26 -  468660 -  549.99 sent/s -  1154.98 words/s - MLM-en:  3.7866 || MLM-ms:  4.0226 -  - model LR: 1.0331e-05\\n',\n",
       " 'INFO - 10/30/20 15:57:53 - 1 day, 23:38:26 -  468665 -  549.03 sent/s -  1235.33 words/s - MLM-en:  3.7630 || MLM-ms:  3.7814 -  - model LR: 1.0331e-05\\n',\n",
       " 'INFO - 10/30/20 15:57:54 - 1 day, 23:38:27 -  468670 -  552.47 sent/s -  1049.69 words/s - MLM-en:  4.0502 || MLM-ms:  3.2686 -  - model LR: 1.0331e-05\\n',\n",
       " 'INFO - 10/30/20 15:57:54 - 1 day, 23:38:28 -  468675 -  548.54 sent/s -  1247.93 words/s - MLM-en:  3.6424 || MLM-ms:  3.8570 -  - model LR: 1.0331e-05\\n',\n",
       " 'INFO - 10/30/20 15:57:55 - 1 day, 23:38:28 -  468680 -  551.73 sent/s -  1213.81 words/s - MLM-en:  4.4973 || MLM-ms:  3.7401 -  - model LR: 1.0331e-05\\n',\n",
       " 'INFO - 10/30/20 15:57:56 - 1 day, 23:38:29 -  468685 -  553.27 sent/s -  1217.20 words/s - MLM-en:  4.0164 || MLM-ms:  3.6143 -  - model LR: 1.0331e-05\\n',\n",
       " 'INFO - 10/30/20 15:57:56 - 1 day, 23:38:29 -  468690 -  548.69 sent/s -  1248.27 words/s - MLM-en:  4.0962 || MLM-ms:  3.6110 -  - model LR: 1.0331e-05\\n',\n",
       " 'INFO - 10/30/20 15:57:57 - 1 day, 23:38:30 -  468695 -  553.24 sent/s -  1134.15 words/s - MLM-en:  3.7343 || MLM-ms:  4.0865 -  - model LR: 1.0331e-05\\n',\n",
       " 'INFO - 10/30/20 15:57:57 - 1 day, 23:38:31 -  468700 -  518.70 sent/s -  1050.37 words/s - MLM-en:  3.5231 || MLM-ms:  4.2733 -  - model LR: 1.0331e-05\\n',\n",
       " 'INFO - 10/30/20 15:57:58 - 1 day, 23:38:31 -  468705 -  453.05 sent/s -   940.09 words/s - MLM-en:  3.8643 || MLM-ms:  4.2582 -  - model LR: 1.0331e-05\\n',\n",
       " 'INFO - 10/30/20 15:57:59 - 1 day, 23:38:32 -  468710 -  449.34 sent/s -   988.55 words/s - MLM-en:  4.1122 || MLM-ms:  3.7475 -  - model LR: 1.0331e-05\\n',\n",
       " 'INFO - 10/30/20 15:57:59 - 1 day, 23:38:33 -  468715 -  452.29 sent/s -  1006.34 words/s - MLM-en:  3.9348 || MLM-ms:  3.4854 -  - model LR: 1.0331e-05\\n',\n",
       " 'INFO - 10/30/20 15:58:00 - 1 day, 23:38:33 -  468720 -  453.70 sent/s -   941.42 words/s - MLM-en:  3.8319 || MLM-ms:  3.6153 -  - model LR: 1.0331e-05\\n',\n",
       " 'INFO - 10/30/20 15:58:01 - 1 day, 23:38:34 -  468725 -  453.04 sent/s -   951.37 words/s - MLM-en:  3.9433 || MLM-ms:  4.1479 -  - model LR: 1.0330e-05\\n',\n",
       " 'INFO - 10/30/20 15:58:02 - 1 day, 23:38:35 -  468730 -  441.69 sent/s -   960.67 words/s - MLM-en:  3.9863 || MLM-ms:  3.7679 -  - model LR: 1.0330e-05\\n',\n",
       " 'INFO - 10/30/20 15:58:02 - 1 day, 23:38:35 -  468735 -  506.54 sent/s -  1177.70 words/s - MLM-en:  3.7260 || MLM-ms:  3.9706 -  - model LR: 1.0330e-05\\n',\n",
       " 'INFO - 10/30/20 15:58:03 - 1 day, 23:38:36 -  468740 -  509.75 sent/s -  1032.24 words/s - MLM-en:  3.6470 || MLM-ms:  4.1756 -  - model LR: 1.0330e-05\\n',\n",
       " 'INFO - 10/30/20 15:58:04 - 1 day, 23:38:37 -  468745 -  457.58 sent/s -   949.48 words/s - MLM-en:  3.7487 || MLM-ms:  3.4773 -  - model LR: 1.0330e-05\\n',\n",
       " 'INFO - 10/30/20 15:58:04 - 1 day, 23:38:37 -  468750 -  456.60 sent/s -   958.86 words/s - MLM-en:  4.1473 || MLM-ms:  4.2259 -  - model LR: 1.0330e-05\\n',\n",
       " 'INFO - 10/30/20 15:58:05 - 1 day, 23:38:38 -  468755 -  457.77 sent/s -  1007.09 words/s - MLM-en:  4.1253 || MLM-ms:  3.5388 -  - model LR: 1.0330e-05\\n',\n",
       " 'INFO - 10/30/20 15:58:06 - 1 day, 23:38:39 -  468760 -  451.83 sent/s -   937.55 words/s - MLM-en:  3.5785 || MLM-ms:  3.5086 -  - model LR: 1.0330e-05\\n',\n",
       " 'INFO - 10/30/20 15:58:06 - 1 day, 23:38:40 -  468765 -  456.99 sent/s -   913.98 words/s - MLM-en:  3.9544 || MLM-ms:  4.4708 -  - model LR: 1.0330e-05\\n',\n",
       " 'INFO - 10/30/20 15:58:07 - 1 day, 23:38:40 -  468770 -  550.99 sent/s -  1170.85 words/s - MLM-en:  3.4287 || MLM-ms:  3.8350 -  - model LR: 1.0330e-05\\n',\n",
       " 'INFO - 10/30/20 15:58:08 - 1 day, 23:38:41 -  468775 -  546.20 sent/s -  1119.71 words/s - MLM-en:  4.0508 || MLM-ms:  3.7299 -  - model LR: 1.0330e-05\\n',\n",
       " 'INFO - 10/30/20 15:58:08 - 1 day, 23:38:41 -  468780 -  544.06 sent/s -  1128.92 words/s - MLM-en:  3.7004 || MLM-ms:  3.3502 -  - model LR: 1.0330e-05\\n',\n",
       " 'INFO - 10/30/20 15:58:09 - 1 day, 23:38:42 -  468785 -  509.50 sent/s -  1044.48 words/s - MLM-en:  3.9930 || MLM-ms:  3.5411 -  - model LR: 1.0330e-05\\n',\n",
       " 'INFO - 10/30/20 15:58:09 - 1 day, 23:38:43 -  468790 -  460.22 sent/s -  1000.97 words/s - MLM-en:  3.6257 || MLM-ms:  3.8716 -  - model LR: 1.0330e-05\\n',\n",
       " 'INFO - 10/30/20 15:58:10 - 1 day, 23:38:43 -  468795 -  472.63 sent/s -   933.44 words/s - MLM-en:  4.1015 || MLM-ms:  3.4322 -  - model LR: 1.0330e-05\\n',\n",
       " 'INFO - 10/30/20 15:58:11 - 1 day, 23:38:44 -  468800 -  430.44 sent/s -   936.22 words/s - MLM-en:  3.9471 || MLM-ms:  3.9077 -  - model LR: 1.0330e-05\\n',\n",
       " 'INFO - 10/30/20 15:58:12 - 1 day, 23:38:45 -  468805 -  465.57 sent/s -  1012.61 words/s - MLM-en:  3.9000 || MLM-ms:  3.8565 -  - model LR: 1.0330e-05\\n',\n",
       " 'INFO - 10/30/20 15:58:12 - 1 day, 23:38:45 -  468810 -  455.45 sent/s -  1036.14 words/s - MLM-en:  3.8673 || MLM-ms:  3.9387 -  - model LR: 1.0330e-05\\n',\n",
       " 'INFO - 10/30/20 15:58:13 - 1 day, 23:38:46 -  468815 -  453.41 sent/s -   963.49 words/s - MLM-en:  4.0755 || MLM-ms:  4.2656 -  - model LR: 1.0329e-05\\n',\n",
       " 'INFO - 10/30/20 15:58:14 - 1 day, 23:38:47 -  468820 -  457.69 sent/s -  1006.91 words/s - MLM-en:  3.8016 || MLM-ms:  3.7491 -  - model LR: 1.0329e-05\\n',\n",
       " 'INFO - 10/30/20 15:58:14 - 1 day, 23:38:48 -  468825 -  452.85 sent/s -   996.26 words/s - MLM-en:  3.6900 || MLM-ms:  3.5338 -  - model LR: 1.0329e-05\\n',\n",
       " 'INFO - 10/30/20 15:58:15 - 1 day, 23:38:48 -  468830 -  463.77 sent/s -   973.92 words/s - MLM-en:  4.1757 || MLM-ms:  3.4810 -  - model LR: 1.0329e-05\\n',\n",
       " 'INFO - 10/30/20 15:58:16 - 1 day, 23:38:49 -  468835 -  451.30 sent/s -   970.29 words/s - MLM-en:  3.8595 || MLM-ms:  3.6119 -  - model LR: 1.0329e-05\\n',\n",
       " 'INFO - 10/30/20 15:58:16 - 1 day, 23:38:50 -  468840 -  452.21 sent/s -   983.57 words/s - MLM-en:  4.0789 || MLM-ms:  3.8887 -  - model LR: 1.0329e-05\\n',\n",
       " 'INFO - 10/30/20 15:58:17 - 1 day, 23:38:50 -  468845 -  454.36 sent/s -  1045.03 words/s - MLM-en:  3.8455 || MLM-ms:  3.7406 -  - model LR: 1.0329e-05\\n',\n",
       " 'INFO - 10/30/20 15:58:18 - 1 day, 23:38:51 -  468850 -  447.37 sent/s -   917.10 words/s - MLM-en:  3.8242 || MLM-ms:  3.5813 -  - model LR: 1.0329e-05\\n',\n",
       " 'INFO - 10/30/20 15:58:19 - 1 day, 23:38:52 -  468855 -  452.58 sent/s -   893.84 words/s - MLM-en:  4.0176 || MLM-ms:  3.4289 -  - model LR: 1.0329e-05\\n',\n",
       " 'INFO - 10/30/20 15:58:19 - 1 day, 23:38:52 -  468860 -  453.21 sent/s -   917.75 words/s - MLM-en:  3.6172 || MLM-ms:  3.9087 -  - model LR: 1.0329e-05\\n',\n",
       " 'INFO - 10/30/20 15:58:20 - 1 day, 23:38:53 -  468865 -  453.93 sent/s -   998.64 words/s - MLM-en:  4.1364 || MLM-ms:  3.7702 -  - model LR: 1.0329e-05\\n',\n",
       " 'INFO - 10/30/20 15:58:21 - 1 day, 23:38:54 -  468870 -  453.43 sent/s -   986.22 words/s - MLM-en:  3.7165 || MLM-ms:  3.7299 -  - model LR: 1.0329e-05\\n',\n",
       " 'INFO - 10/30/20 15:58:21 - 1 day, 23:38:55 -  468875 -  453.99 sent/s -  1032.84 words/s - MLM-en:  3.9045 || MLM-ms:  3.9496 -  - model LR: 1.0329e-05\\n',\n",
       " 'INFO - 10/30/20 15:58:22 - 1 day, 23:38:55 -  468880 -  461.03 sent/s -  1014.26 words/s - MLM-en:  4.1740 || MLM-ms:  3.6534 -  - model LR: 1.0329e-05\\n',\n",
       " 'INFO - 10/30/20 15:58:23 - 1 day, 23:38:56 -  468885 -  452.92 sent/s -   985.09 words/s - MLM-en:  3.9466 || MLM-ms:  3.7594 -  - model LR: 1.0329e-05\\n',\n",
       " 'INFO - 10/30/20 15:58:24 - 1 day, 23:38:57 -  468890 -  450.04 sent/s -  1035.10 words/s - MLM-en:  4.3213 || MLM-ms:  3.7515 -  - model LR: 1.0329e-05\\n',\n",
       " 'INFO - 10/30/20 15:58:24 - 1 day, 23:38:57 -  468895 -  540.54 sent/s -  1162.16 words/s - MLM-en:  3.9805 || MLM-ms:  3.3522 -  - model LR: 1.0329e-05\\n',\n",
       " 'INFO - 10/30/20 15:58:25 - 1 day, 23:38:58 -  468900 -  474.57 sent/s -   984.74 words/s - MLM-en:  3.7520 || MLM-ms:  4.1702 -  - model LR: 1.0329e-05\\n',\n",
       " 'INFO - 10/30/20 15:58:25 - 1 day, 23:38:59 -  468905 -  453.34 sent/s -  1020.02 words/s - MLM-en:  4.1881 || MLM-ms:  3.8292 -  - model LR: 1.0328e-05\\n',\n",
       " 'INFO - 10/30/20 15:58:26 - 1 day, 23:38:59 -  468910 -  453.46 sent/s -   952.27 words/s - MLM-en:  3.8968 || MLM-ms:  3.7393 -  - model LR: 1.0328e-05\\n',\n",
       " 'INFO - 10/30/20 15:58:27 - 1 day, 23:39:00 -  468915 -  423.41 sent/s -   868.00 words/s - MLM-en:  3.7762 || MLM-ms:  3.9251 -  - model LR: 1.0328e-05\\n',\n",
       " 'INFO - 10/30/20 15:58:28 - 1 day, 23:39:01 -  468920 -  473.06 sent/s -  1040.73 words/s - MLM-en:  4.4749 || MLM-ms:  3.7106 -  - model LR: 1.0328e-05\\n',\n",
       " 'INFO - 10/30/20 15:58:28 - 1 day, 23:39:02 -  468925 -  460.12 sent/s -   977.76 words/s - MLM-en:  4.0767 || MLM-ms:  3.5096 -  - model LR: 1.0328e-05\\n',\n",
       " 'INFO - 10/30/20 15:58:29 - 1 day, 23:39:02 -  468930 -  452.61 sent/s -   973.12 words/s - MLM-en:  4.1499 || MLM-ms:  4.0027 -  - model LR: 1.0328e-05\\n',\n",
       " 'INFO - 10/30/20 15:58:30 - 1 day, 23:39:03 -  468935 -  453.78 sent/s -   986.97 words/s - MLM-en:  3.7965 || MLM-ms:  4.0229 -  - model LR: 1.0328e-05\\n',\n",
       " 'INFO - 10/30/20 15:58:30 - 1 day, 23:39:04 -  468940 -  453.34 sent/s -   929.34 words/s - MLM-en:  4.2600 || MLM-ms:  3.8792 -  - model LR: 1.0328e-05\\n',\n",
       " 'INFO - 10/30/20 15:58:31 - 1 day, 23:39:04 -  468945 -  445.40 sent/s -   924.21 words/s - MLM-en:  3.8960 || MLM-ms:  4.3113 -  - model LR: 1.0328e-05\\n',\n",
       " 'INFO - 10/30/20 15:58:32 - 1 day, 23:39:05 -  468950 -  451.09 sent/s -   947.29 words/s - MLM-en:  3.7178 || MLM-ms:  3.8866 -  - model LR: 1.0328e-05\\n',\n",
       " 'INFO - 10/30/20 15:58:33 - 1 day, 23:39:06 -  468955 -  450.83 sent/s -  1003.10 words/s - MLM-en:  3.8842 || MLM-ms:  3.9859 -  - model LR: 1.0328e-05\\n',\n",
       " 'INFO - 10/30/20 15:58:33 - 1 day, 23:39:06 -  468960 -  453.88 sent/s -   987.19 words/s - MLM-en:  3.9193 || MLM-ms:  3.6266 -  - model LR: 1.0328e-05\\n',\n",
       " 'INFO - 10/30/20 15:58:34 - 1 day, 23:39:07 -  468965 -  447.93 sent/s -   963.06 words/s - MLM-en:  4.4726 || MLM-ms:  3.7788 -  - model LR: 1.0328e-05\\n',\n",
       " 'INFO - 10/30/20 15:58:35 - 1 day, 23:39:08 -  468970 -  448.78 sent/s -   953.66 words/s - MLM-en:  4.1616 || MLM-ms:  3.8658 -  - model LR: 1.0328e-05\\n',\n",
       " 'INFO - 10/30/20 15:58:35 - 1 day, 23:39:09 -  468975 -  475.19 sent/s -  1009.77 words/s - MLM-en:  3.8288 || MLM-ms:  3.5265 -  - model LR: 1.0328e-05\\n',\n",
       " 'INFO - 10/30/20 15:58:36 - 1 day, 23:39:09 -  468980 -  440.02 sent/s -   968.05 words/s - MLM-en:  3.7176 || MLM-ms:  3.5475 -  - model LR: 1.0328e-05\\n',\n",
       " 'INFO - 10/30/20 15:58:37 - 1 day, 23:39:10 -  468985 -  445.20 sent/s -   946.05 words/s - MLM-en:  3.7293 || MLM-ms:  3.9823 -  - model LR: 1.0328e-05\\n',\n",
       " 'INFO - 10/30/20 15:58:38 - 1 day, 23:39:11 -  468990 -  451.63 sent/s -   925.85 words/s - MLM-en:  3.9735 || MLM-ms:  3.3336 -  - model LR: 1.0328e-05\\n',\n",
       " 'INFO - 10/30/20 15:58:38 - 1 day, 23:39:11 -  468995 -  454.11 sent/s -   987.68 words/s - MLM-en:  4.2383 || MLM-ms:  3.5037 -  - model LR: 1.0327e-05\\n',\n",
       " 'INFO - 10/30/20 15:58:39 - 1 day, 23:39:12 -  469000 -  423.97 sent/s -   900.94 words/s - MLM-en:  3.7696 || MLM-ms:  3.7192 -  - model LR: 1.0327e-05\\n',\n",
       " 'INFO - 10/30/20 15:58:40 - 1 day, 23:39:13 -  469005 -  447.47 sent/s -   939.68 words/s - MLM-en:  4.0253 || MLM-ms:  3.8075 -  - model LR: 1.0327e-05\\n',\n",
       " 'INFO - 10/30/20 15:58:40 - 1 day, 23:39:14 -  469010 -  452.78 sent/s -   950.83 words/s - MLM-en:  4.0092 || MLM-ms:  3.1246 -  - model LR: 1.0327e-05\\n',\n",
       " 'INFO - 10/30/20 15:58:41 - 1 day, 23:39:14 -  469015 -  455.36 sent/s -   979.02 words/s - MLM-en:  4.0079 || MLM-ms:  3.8770 -  - model LR: 1.0327e-05\\n',\n",
       " 'INFO - 10/30/20 15:58:42 - 1 day, 23:39:15 -  469020 -  440.07 sent/s -   979.16 words/s - MLM-en:  3.5165 || MLM-ms:  3.6237 -  - model LR: 1.0327e-05\\n',\n",
       " 'INFO - 10/30/20 15:58:43 - 1 day, 23:39:16 -  469025 -  451.94 sent/s -  1016.87 words/s - MLM-en:  4.0239 || MLM-ms:  4.1689 -  - model LR: 1.0327e-05\\n',\n",
       " 'INFO - 10/30/20 15:58:43 - 1 day, 23:39:16 -  469030 -  442.44 sent/s -   951.25 words/s - MLM-en:  4.1466 || MLM-ms:  4.0062 -  - model LR: 1.0327e-05\\n',\n",
       " 'INFO - 10/30/20 15:58:44 - 1 day, 23:39:17 -  469035 -  453.34 sent/s -  1065.36 words/s - MLM-en:  3.4083 || MLM-ms:  3.6182 -  - model LR: 1.0327e-05\\n',\n",
       " 'INFO - 10/30/20 15:58:45 - 1 day, 23:39:18 -  469040 -  474.13 sent/s -   995.68 words/s - MLM-en:  3.6352 || MLM-ms:  4.0730 -  - model LR: 1.0327e-05\\n',\n",
       " 'INFO - 10/30/20 15:58:45 - 1 day, 23:39:19 -  469045 -  446.53 sent/s -   960.05 words/s - MLM-en:  3.8476 || MLM-ms:  3.6070 -  - model LR: 1.0327e-05\\n',\n",
       " 'INFO - 10/30/20 15:58:46 - 1 day, 23:39:19 -  469050 -  452.84 sent/s -  1007.56 words/s - MLM-en:  4.3663 || MLM-ms:  4.1692 -  - model LR: 1.0327e-05\\n',\n",
       " 'INFO - 10/30/20 15:58:47 - 1 day, 23:39:20 -  469055 -  440.68 sent/s -   914.41 words/s - MLM-en:  4.2276 || MLM-ms:  4.0757 -  - model LR: 1.0327e-05\\n',\n",
       " 'INFO - 10/30/20 15:58:48 - 1 day, 23:39:21 -  469060 -  453.18 sent/s -   940.35 words/s - MLM-en:  3.9613 || MLM-ms:  3.7601 -  - model LR: 1.0327e-05\\n',\n",
       " 'INFO - 10/30/20 15:58:48 - 1 day, 23:39:21 -  469065 -  447.23 sent/s -   950.36 words/s - MLM-en:  4.0397 || MLM-ms:  3.8522 -  - model LR: 1.0327e-05\\n',\n",
       " 'INFO - 10/30/20 15:58:49 - 1 day, 23:39:22 -  469070 -  454.19 sent/s -   942.45 words/s - MLM-en:  3.8501 || MLM-ms:  3.4556 -  - model LR: 1.0327e-05\\n',\n",
       " 'INFO - 10/30/20 15:58:50 - 1 day, 23:39:23 -  469075 -  434.46 sent/s -   944.94 words/s - MLM-en:  3.0388 || MLM-ms:  3.3357 -  - model LR: 1.0327e-05\\n',\n",
       " 'INFO - 10/30/20 15:58:50 - 1 day, 23:39:24 -  469080 -  452.93 sent/s -  1019.10 words/s - MLM-en:  4.2360 || MLM-ms:  3.5382 -  - model LR: 1.0327e-05\\n',\n",
       " 'INFO - 10/30/20 15:58:51 - 1 day, 23:39:24 -  469085 -  452.27 sent/s -   972.37 words/s - MLM-en:  3.9321 || MLM-ms:  3.6316 -  - model LR: 1.0327e-05\\n',\n",
       " 'INFO - 10/30/20 15:58:52 - 1 day, 23:39:25 -  469090 -  438.14 sent/s -   941.99 words/s - MLM-en:  3.7060 || MLM-ms:  3.5315 -  - model LR: 1.0326e-05\\n',\n",
       " 'INFO - 10/30/20 15:58:53 - 1 day, 23:39:26 -  469095 -  441.08 sent/s -   926.28 words/s - MLM-en:  3.8194 || MLM-ms:  3.9482 -  - model LR: 1.0326e-05\\n',\n",
       " 'INFO - 10/30/20 15:58:53 - 1 day, 23:39:26 -  469100 -  451.43 sent/s -  1004.43 words/s - MLM-en:  4.2597 || MLM-ms:  3.8517 -  - model LR: 1.0326e-05\\n',\n",
       " 'INFO - 10/30/20 15:58:54 - 1 day, 23:39:27 -  469105 -  441.09 sent/s -   992.44 words/s - MLM-en:  4.0653 || MLM-ms:  3.5848 -  - model LR: 1.0326e-05\\n',\n",
       " 'INFO - 10/30/20 15:58:55 - 1 day, 23:39:28 -  469110 -  455.87 sent/s -   991.51 words/s - MLM-en:  4.1078 || MLM-ms:  3.9211 -  - model LR: 1.0326e-05\\n',\n",
       " 'INFO - 10/30/20 15:58:55 - 1 day, 23:39:29 -  469115 -  449.85 sent/s -   989.67 words/s - MLM-en:  3.5729 || MLM-ms:  3.9302 -  - model LR: 1.0326e-05\\n',\n",
       " 'INFO - 10/30/20 15:58:56 - 1 day, 23:39:29 -  469120 -  447.83 sent/s -   974.03 words/s - MLM-en:  3.7412 || MLM-ms:  4.0929 -  - model LR: 1.0326e-05\\n',\n",
       " 'INFO - 10/30/20 15:58:57 - 1 day, 23:39:30 -  469125 -  451.17 sent/s -   992.58 words/s - MLM-en:  3.9710 || MLM-ms:  4.2309 -  - model LR: 1.0326e-05\\n',\n",
       " 'INFO - 10/30/20 15:58:58 - 1 day, 23:39:31 -  469130 -  451.15 sent/s -  1026.37 words/s - MLM-en:  4.0483 || MLM-ms:  3.8381 -  - model LR: 1.0326e-05\\n',\n",
       " 'INFO - 10/30/20 15:58:58 - 1 day, 23:39:31 -  469135 -  482.63 sent/s -  1025.59 words/s - MLM-en:  3.7371 || MLM-ms:  3.9300 -  - model LR: 1.0326e-05\\n',\n",
       " 'INFO - 10/30/20 15:58:59 - 1 day, 23:39:32 -  469140 -  451.51 sent/s -   948.17 words/s - MLM-en:  3.7749 || MLM-ms:  3.4801 -  - model LR: 1.0326e-05\\n',\n",
       " 'INFO - 10/30/20 15:59:00 - 1 day, 23:39:33 -  469145 -  466.75 sent/s -   933.51 words/s - MLM-en:  4.0066 || MLM-ms:  3.7895 -  - model LR: 1.0326e-05\\n',\n",
       " 'INFO - 10/30/20 15:59:00 - 1 day, 23:39:33 -  469150 -  459.91 sent/s -   965.81 words/s - MLM-en:  3.6782 || MLM-ms:  4.0601 -  - model LR: 1.0326e-05\\n',\n",
       " 'INFO - 10/30/20 15:59:01 - 1 day, 23:39:34 -  469155 -  459.06 sent/s -   941.08 words/s - MLM-en:  3.8315 || MLM-ms:  3.6315 -  - model LR: 1.0326e-05\\n',\n",
       " 'INFO - 10/30/20 15:59:02 - 1 day, 23:39:35 -  469160 -  454.79 sent/s -  1011.90 words/s - MLM-en:  4.4399 || MLM-ms:  3.7800 -  - model LR: 1.0326e-05\\n',\n",
       " 'INFO - 10/30/20 15:59:02 - 1 day, 23:39:36 -  469165 -  462.12 sent/s -   970.46 words/s - MLM-en:  3.2892 || MLM-ms:  3.7382 -  - model LR: 1.0326e-05\\n',\n",
       " 'INFO - 10/30/20 15:59:03 - 1 day, 23:39:36 -  469170 -  532.76 sent/s -  1078.84 words/s - MLM-en:  4.1031 || MLM-ms:  4.1765 -  - model LR: 1.0326e-05\\n',\n",
       " 'INFO - 10/30/20 15:59:04 - 1 day, 23:39:37 -  469175 -  525.84 sent/s -  1091.12 words/s - MLM-en:  4.0585 || MLM-ms:  3.3125 -  - model LR: 1.0326e-05\\n',\n",
       " 'INFO - 10/30/20 15:59:04 - 1 day, 23:39:37 -  469180 -  538.67 sent/s -  1185.08 words/s - MLM-en:  3.4664 || MLM-ms:  3.5525 -  - model LR: 1.0325e-05\\n',\n",
       " 'INFO - 10/30/20 15:59:05 - 1 day, 23:39:38 -  469185 -  480.97 sent/s -   973.95 words/s - MLM-en:  4.0200 || MLM-ms:  4.0115 -  - model LR: 1.0325e-05\\n',\n",
       " 'INFO - 10/30/20 15:59:06 - 1 day, 23:39:39 -  469190 -  451.13 sent/s -   902.27 words/s - MLM-en:  4.3770 || MLM-ms:  3.5102 -  - model LR: 1.0325e-05\\n',\n",
       " 'INFO - 10/30/20 15:59:06 - 1 day, 23:39:39 -  469195 -  444.86 sent/s -   934.20 words/s - MLM-en:  4.3877 || MLM-ms:  3.2487 -  - model LR: 1.0325e-05\\n',\n",
       " 'INFO - 10/30/20 15:59:07 - 1 day, 23:39:40 -  469200 -  448.14 sent/s -   918.69 words/s - MLM-en:  3.8990 || MLM-ms:  4.2438 -  - model LR: 1.0325e-05\\n',\n",
       " 'INFO - 10/30/20 15:59:07 - 1 day, 23:39:40 - ============ End of epoch 599 ============\\n',\n",
       " 'INFO - 10/30/20 16:07:02 - 1 day, 23:47:36 - epoch -> 599.000000\\n',\n",
       " 'INFO - 10/30/20 16:07:02 - 1 day, 23:47:36 - valid_en_mlm_ppl -> 60.061504\\n',\n",
       " 'INFO - 10/30/20 16:07:02 - 1 day, 23:47:36 - valid_en_mlm_acc -> 34.614150\\n',\n",
       " 'INFO - 10/30/20 16:07:02 - 1 day, 23:47:36 - valid_ms_mlm_ppl -> 59.897404\\n',\n",
       " 'INFO - 10/30/20 16:07:02 - 1 day, 23:47:36 - valid_ms_mlm_acc -> 35.127718\\n',\n",
       " 'INFO - 10/30/20 16:07:02 - 1 day, 23:47:36 - valid_mlm_ppl -> 59.979454\\n',\n",
       " 'INFO - 10/30/20 16:07:02 - 1 day, 23:47:36 - valid_mlm_acc -> 34.870934\\n',\n",
       " 'INFO - 10/30/20 16:07:02 - 1 day, 23:47:36 - test_en_mlm_ppl -> 72.426484\\n',\n",
       " 'INFO - 10/30/20 16:07:02 - 1 day, 23:47:36 - test_en_mlm_acc -> 32.427094\\n',\n",
       " 'INFO - 10/30/20 16:07:02 - 1 day, 23:47:36 - test_ms_mlm_ppl -> 83.567722\\n',\n",
       " 'INFO - 10/30/20 16:07:02 - 1 day, 23:47:36 - test_ms_mlm_acc -> 31.141290\\n',\n",
       " 'INFO - 10/30/20 16:07:02 - 1 day, 23:47:36 - test_mlm_ppl -> 77.997103\\n',\n",
       " 'INFO - 10/30/20 16:07:02 - 1 day, 23:47:36 - test_mlm_acc -> 31.784192\\n',\n",
       " 'INFO - 10/30/20 16:07:02 - 1 day, 23:47:36 - __log__:{\"epoch\": 599, \"valid_en_mlm_ppl\": 60.06150367982744, \"valid_en_mlm_acc\": 34.61415048933098, \"valid_ms_mlm_ppl\": 59.897404192919275, \"valid_ms_mlm_acc\": 35.12771796495672, \"valid_mlm_ppl\": 59.97945393637336, \"valid_mlm_acc\": 34.87093422714385, \"test_en_mlm_ppl\": 72.42648383328736, \"test_en_mlm_acc\": 32.4270942256303, \"test_ms_mlm_ppl\": 83.56772215020838, \"test_ms_mlm_acc\": 31.14129037785965, \"test_mlm_ppl\": 77.99710299174788, \"test_mlm_acc\": 31.784192301744973}\\n',\n",
       " 'INFO - 10/30/20 16:07:02 - 1 day, 23:47:36 - ============== nanda logger matric and biggest\\n',\n",
       " 'INFO - 10/30/20 16:07:02 - 1 day, 23:47:36 - valid_mlm_ppl\\n',\n",
       " 'INFO - 10/30/20 16:07:02 - 1 day, 23:47:36 - False\\n',\n",
       " 'INFO - 10/30/20 16:07:02 - 1 day, 23:47:36 - Not a better validation score (0 / 25).\\n',\n",
       " 'INFO - 10/30/20 16:07:02 - 1 day, 23:47:36 - Saving checkpoint to ./new_dumped/xlm_R/1/checkpoint.pth ...\\n',\n",
       " 'WARNING - 10/30/20 16:07:02 - 1 day, 23:47:36 - Saving model parameters ...\\n',\n",
       " 'WARNING - 10/30/20 16:07:02 - 1 day, 23:47:36 - Saving model optimizer ...\\n']"
      ]
     },
     "execution_count": 55,
     "metadata": {},
     "output_type": "execute_result"
    }
   ],
   "source": [
    "f[109000:]"
   ]
  },
  {
   "cell_type": "code",
   "execution_count": 4,
   "metadata": {},
   "outputs": [],
   "source": [
    "token_mix = 62404766 + 150883 + 147638 \n",
    "sentence_mix = 2083584+5000+5000\n",
    "token_en = 74675475 + 175677 + 181750\n",
    "sentnece_en = 1990000 + 5000+5000\n",
    "token_ms = 60184986 + 166754 + 164394\n",
    "sentnece_ms = 1990000 + 5000+5000"
   ]
  },
  {
   "cell_type": "code",
   "execution_count": 30,
   "metadata": {},
   "outputs": [
    {
     "data": {
      "text/plain": [
       "198252323"
      ]
     },
     "execution_count": 30,
     "metadata": {},
     "output_type": "execute_result"
    }
   ],
   "source": [
    "token_en+token_ms+token_mix"
   ]
  },
  {
   "cell_type": "code",
   "execution_count": 31,
   "metadata": {},
   "outputs": [
    {
     "data": {
      "text/plain": [
       "6093584"
      ]
     },
     "execution_count": 31,
     "metadata": {},
     "output_type": "execute_result"
    }
   ],
   "source": [
    "sentence_mix + sentnece_en + sentnece_ms"
   ]
  },
  {
   "cell_type": "code",
   "execution_count": 9,
   "metadata": {},
   "outputs": [],
   "source": [
    "import pickle"
   ]
  },
  {
   "cell_type": "code",
   "execution_count": 10,
   "metadata": {},
   "outputs": [],
   "source": [
    "file = \"/home/nanda/XLM_modif/data/processed/all_mix_ms_en/train.mix.pth_LI.p\""
   ]
  },
  {
   "cell_type": "code",
   "execution_count": 11,
   "metadata": {},
   "outputs": [],
   "source": [
    "lang_embed = pickle.load( open( file, \"rb\" ) )"
   ]
  },
  {
   "cell_type": "code",
   "execution_count": 22,
   "metadata": {},
   "outputs": [],
   "source": [
    "import numpy as np"
   ]
  },
  {
   "cell_type": "code",
   "execution_count": 12,
   "metadata": {},
   "outputs": [
    {
     "data": {
      "text/plain": [
       "numpy.ndarray"
      ]
     },
     "execution_count": 12,
     "metadata": {},
     "output_type": "execute_result"
    }
   ],
   "source": [
    "type(lang_embed)"
   ]
  },
  {
   "cell_type": "code",
   "execution_count": 14,
   "metadata": {},
   "outputs": [
    {
     "data": {
      "text/plain": [
       "(64488350,)"
      ]
     },
     "execution_count": 14,
     "metadata": {},
     "output_type": "execute_result"
    }
   ],
   "source": [
    "lang_embed.shape"
   ]
  },
  {
   "cell_type": "code",
   "execution_count": 24,
   "metadata": {},
   "outputs": [
    {
     "data": {
      "text/plain": [
       "60628280"
      ]
     },
     "execution_count": 24,
     "metadata": {},
     "output_type": "execute_result"
    }
   ],
   "source": [
    "np.count_nonzero(lang_embed == 1) # ms"
   ]
  },
  {
   "cell_type": "code",
   "execution_count": 25,
   "metadata": {},
   "outputs": [
    {
     "data": {
      "text/plain": [
       "1553360"
      ]
     },
     "execution_count": 25,
     "metadata": {},
     "output_type": "execute_result"
    }
   ],
   "source": [
    "np.count_nonzero(lang_embed == 2) # zh"
   ]
  },
  {
   "cell_type": "code",
   "execution_count": 27,
   "metadata": {},
   "outputs": [
    {
     "data": {
      "text/plain": [
       "1867773"
      ]
     },
     "execution_count": 27,
     "metadata": {},
     "output_type": "execute_result"
    }
   ],
   "source": [
    "np.count_nonzero(lang_embed == 3) # en"
   ]
  },
  {
   "cell_type": "code",
   "execution_count": 28,
   "metadata": {},
   "outputs": [
    {
     "data": {
      "text/plain": [
       "438937"
      ]
     },
     "execution_count": 28,
     "metadata": {},
     "output_type": "execute_result"
    }
   ],
   "source": [
    "np.count_nonzero(lang_embed == 4) # undifined"
   ]
  },
  {
   "cell_type": "code",
   "execution_count": null,
   "metadata": {},
   "outputs": [],
   "source": []
  }
 ],
 "metadata": {
  "kernelspec": {
   "display_name": "nanda_gpu",
   "language": "python",
   "name": "nanda_gpu"
  },
  "language_info": {
   "codemirror_mode": {
    "name": "ipython",
    "version": 3
   },
   "file_extension": ".py",
   "mimetype": "text/x-python",
   "name": "python",
   "nbconvert_exporter": "python",
   "pygments_lexer": "ipython3",
   "version": "3.6.10"
  }
 },
 "nbformat": 4,
 "nbformat_minor": 2
}
